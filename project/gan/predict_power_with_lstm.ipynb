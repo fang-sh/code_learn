{
 "cells": [
  {
   "cell_type": "code",
   "execution_count": 1,
   "id": "f6f58b9d",
   "metadata": {},
   "outputs": [],
   "source": [
    "import numpy as np\n",
    "import pandas as pd\n",
    "from sklearn.preprocessing import MinMaxScaler\n",
    "from sklearn.metrics import mean_absolute_error, mean_squared_error\n",
    "\n",
    "import tensorflow as tf\n",
    "from tensorflow.keras.models import Sequential\n",
    "from tensorflow.keras import optimizers\n",
    "from tensorflow.keras.layers import Dense, LSTM"
   ]
  },
  {
   "cell_type": "code",
   "execution_count": 2,
   "id": "d7aa8e91",
   "metadata": {},
   "outputs": [],
   "source": [
    "nan_fill = -160\n",
    "train_size = 0.7\n",
    "timesteps=5 # next time dbm Prediction is based on last how many past time dbm"
   ]
  },
  {
   "cell_type": "code",
   "execution_count": 3,
   "id": "8a6b0b10",
   "metadata": {},
   "outputs": [],
   "source": [
    "def get_table_dbm(df, max_id=50):\n",
    "    tmp_df=df.sort_values(by='id')\n",
    "    t_tx = pd.DataFrame(columns=['time']+['id_'+str(i) for i in range(1, max_id+1)])\n",
    "    for time_step in tmp_df['time'].unique():\n",
    "        t = tmp_df.loc[tmp_df['time']==time_step, ['id','dbm']].T\n",
    "        t.columns = ['id_'+str(int(i)) for i in t.loc['id'].tolist()]\n",
    "        t['time'] = time_step\n",
    "        t = t.drop(index='id')\n",
    "        t_tx = pd.concat([t_tx, t])\n",
    "    t_tx = t_tx.sort_values(by='time').reset_index(drop=True)\n",
    "    return t_tx"
   ]
  },
  {
   "cell_type": "code",
   "execution_count": 4,
   "id": "d0d3da1d",
   "metadata": {},
   "outputs": [
    {
     "data": {
      "text/html": [
       "<div>\n",
       "<style scoped>\n",
       "    .dataframe tbody tr th:only-of-type {\n",
       "        vertical-align: middle;\n",
       "    }\n",
       "\n",
       "    .dataframe tbody tr th {\n",
       "        vertical-align: top;\n",
       "    }\n",
       "\n",
       "    .dataframe thead th {\n",
       "        text-align: right;\n",
       "    }\n",
       "</style>\n",
       "<table border=\"1\" class=\"dataframe\">\n",
       "  <thead>\n",
       "    <tr style=\"text-align: right;\">\n",
       "      <th></th>\n",
       "      <th>time</th>\n",
       "      <th>tx</th>\n",
       "      <th>id</th>\n",
       "      <th>power</th>\n",
       "      <th>lon</th>\n",
       "      <th>lat</th>\n",
       "      <th>dbm</th>\n",
       "    </tr>\n",
       "  </thead>\n",
       "  <tbody>\n",
       "    <tr>\n",
       "      <th>0</th>\n",
       "      <td>0.00</td>\n",
       "      <td>500</td>\n",
       "      <td>16</td>\n",
       "      <td>4.996616e-13</td>\n",
       "      <td>3.06045</td>\n",
       "      <td>50.63294</td>\n",
       "      <td>-123.0</td>\n",
       "    </tr>\n",
       "    <tr>\n",
       "      <th>1</th>\n",
       "      <td>0.02</td>\n",
       "      <td>500</td>\n",
       "      <td>16</td>\n",
       "      <td>5.004682e-13</td>\n",
       "      <td>3.06045</td>\n",
       "      <td>50.63294</td>\n",
       "      <td>-123.0</td>\n",
       "    </tr>\n",
       "    <tr>\n",
       "      <th>2</th>\n",
       "      <td>0.04</td>\n",
       "      <td>500</td>\n",
       "      <td>16</td>\n",
       "      <td>5.013803e-13</td>\n",
       "      <td>3.06045</td>\n",
       "      <td>50.63294</td>\n",
       "      <td>-123.0</td>\n",
       "    </tr>\n",
       "    <tr>\n",
       "      <th>3</th>\n",
       "      <td>0.06</td>\n",
       "      <td>500</td>\n",
       "      <td>16</td>\n",
       "      <td>5.021966e-13</td>\n",
       "      <td>3.06045</td>\n",
       "      <td>50.63294</td>\n",
       "      <td>-123.0</td>\n",
       "    </tr>\n",
       "    <tr>\n",
       "      <th>4</th>\n",
       "      <td>0.08</td>\n",
       "      <td>500</td>\n",
       "      <td>16</td>\n",
       "      <td>5.031786e-13</td>\n",
       "      <td>3.06045</td>\n",
       "      <td>50.63294</td>\n",
       "      <td>-123.0</td>\n",
       "    </tr>\n",
       "  </tbody>\n",
       "</table>\n",
       "</div>"
      ],
      "text/plain": [
       "   time   tx  id         power      lon       lat    dbm\n",
       "0  0.00  500  16  4.996616e-13  3.06045  50.63294 -123.0\n",
       "1  0.02  500  16  5.004682e-13  3.06045  50.63294 -123.0\n",
       "2  0.04  500  16  5.013803e-13  3.06045  50.63294 -123.0\n",
       "3  0.06  500  16  5.021966e-13  3.06045  50.63294 -123.0\n",
       "4  0.08  500  16  5.031786e-13  3.06045  50.63294 -123.0"
      ]
     },
     "execution_count": 4,
     "metadata": {},
     "output_type": "execute_result"
    }
   ],
   "source": [
    "df = pd.read_csv('50sensor_power_2tx_latlon_5g.csv')\n",
    "df.head()"
   ]
  },
  {
   "cell_type": "code",
   "execution_count": 5,
   "id": "c43e2dd0",
   "metadata": {},
   "outputs": [
    {
     "data": {
      "text/html": [
       "<div>\n",
       "<style scoped>\n",
       "    .dataframe tbody tr th:only-of-type {\n",
       "        vertical-align: middle;\n",
       "    }\n",
       "\n",
       "    .dataframe tbody tr th {\n",
       "        vertical-align: top;\n",
       "    }\n",
       "\n",
       "    .dataframe thead th {\n",
       "        text-align: right;\n",
       "    }\n",
       "</style>\n",
       "<table border=\"1\" class=\"dataframe\">\n",
       "  <thead>\n",
       "    <tr style=\"text-align: right;\">\n",
       "      <th></th>\n",
       "      <th>time</th>\n",
       "      <th>id_1</th>\n",
       "      <th>id_2</th>\n",
       "      <th>id_3</th>\n",
       "      <th>id_4</th>\n",
       "      <th>id_5</th>\n",
       "      <th>id_6</th>\n",
       "      <th>id_7</th>\n",
       "      <th>id_8</th>\n",
       "      <th>id_9</th>\n",
       "      <th>...</th>\n",
       "      <th>id_41</th>\n",
       "      <th>id_42</th>\n",
       "      <th>id_43</th>\n",
       "      <th>id_44</th>\n",
       "      <th>id_45</th>\n",
       "      <th>id_46</th>\n",
       "      <th>id_47</th>\n",
       "      <th>id_48</th>\n",
       "      <th>id_49</th>\n",
       "      <th>id_50</th>\n",
       "    </tr>\n",
       "  </thead>\n",
       "  <tbody>\n",
       "    <tr>\n",
       "      <th>0</th>\n",
       "      <td>0.00</td>\n",
       "      <td>NaN</td>\n",
       "      <td>-98.0</td>\n",
       "      <td>NaN</td>\n",
       "      <td>NaN</td>\n",
       "      <td>NaN</td>\n",
       "      <td>NaN</td>\n",
       "      <td>-97.0</td>\n",
       "      <td>-128.0</td>\n",
       "      <td>NaN</td>\n",
       "      <td>...</td>\n",
       "      <td>-115.0</td>\n",
       "      <td>-97.0</td>\n",
       "      <td>-107.0</td>\n",
       "      <td>-60.0</td>\n",
       "      <td>-80.0</td>\n",
       "      <td>NaN</td>\n",
       "      <td>-127.0</td>\n",
       "      <td>-102.0</td>\n",
       "      <td>NaN</td>\n",
       "      <td>NaN</td>\n",
       "    </tr>\n",
       "    <tr>\n",
       "      <th>1</th>\n",
       "      <td>0.02</td>\n",
       "      <td>NaN</td>\n",
       "      <td>-98.0</td>\n",
       "      <td>NaN</td>\n",
       "      <td>NaN</td>\n",
       "      <td>NaN</td>\n",
       "      <td>NaN</td>\n",
       "      <td>-97.0</td>\n",
       "      <td>-128.0</td>\n",
       "      <td>NaN</td>\n",
       "      <td>...</td>\n",
       "      <td>-114.0</td>\n",
       "      <td>-98.0</td>\n",
       "      <td>-108.0</td>\n",
       "      <td>-61.0</td>\n",
       "      <td>-102.0</td>\n",
       "      <td>NaN</td>\n",
       "      <td>-127.0</td>\n",
       "      <td>-101.0</td>\n",
       "      <td>NaN</td>\n",
       "      <td>NaN</td>\n",
       "    </tr>\n",
       "    <tr>\n",
       "      <th>2</th>\n",
       "      <td>0.04</td>\n",
       "      <td>NaN</td>\n",
       "      <td>-95.0</td>\n",
       "      <td>NaN</td>\n",
       "      <td>NaN</td>\n",
       "      <td>NaN</td>\n",
       "      <td>NaN</td>\n",
       "      <td>-97.0</td>\n",
       "      <td>-128.0</td>\n",
       "      <td>NaN</td>\n",
       "      <td>...</td>\n",
       "      <td>-113.0</td>\n",
       "      <td>-95.0</td>\n",
       "      <td>-108.0</td>\n",
       "      <td>-60.0</td>\n",
       "      <td>-105.0</td>\n",
       "      <td>NaN</td>\n",
       "      <td>-127.0</td>\n",
       "      <td>-102.0</td>\n",
       "      <td>NaN</td>\n",
       "      <td>NaN</td>\n",
       "    </tr>\n",
       "    <tr>\n",
       "      <th>3</th>\n",
       "      <td>0.06</td>\n",
       "      <td>NaN</td>\n",
       "      <td>-94.0</td>\n",
       "      <td>NaN</td>\n",
       "      <td>NaN</td>\n",
       "      <td>NaN</td>\n",
       "      <td>NaN</td>\n",
       "      <td>-97.0</td>\n",
       "      <td>-128.0</td>\n",
       "      <td>NaN</td>\n",
       "      <td>...</td>\n",
       "      <td>-112.0</td>\n",
       "      <td>-99.0</td>\n",
       "      <td>-109.0</td>\n",
       "      <td>-61.0</td>\n",
       "      <td>-104.0</td>\n",
       "      <td>NaN</td>\n",
       "      <td>-127.0</td>\n",
       "      <td>-104.0</td>\n",
       "      <td>NaN</td>\n",
       "      <td>NaN</td>\n",
       "    </tr>\n",
       "    <tr>\n",
       "      <th>4</th>\n",
       "      <td>0.08</td>\n",
       "      <td>NaN</td>\n",
       "      <td>-95.0</td>\n",
       "      <td>NaN</td>\n",
       "      <td>NaN</td>\n",
       "      <td>NaN</td>\n",
       "      <td>NaN</td>\n",
       "      <td>-97.0</td>\n",
       "      <td>-128.0</td>\n",
       "      <td>NaN</td>\n",
       "      <td>...</td>\n",
       "      <td>-112.0</td>\n",
       "      <td>-110.0</td>\n",
       "      <td>-109.0</td>\n",
       "      <td>-62.0</td>\n",
       "      <td>-103.0</td>\n",
       "      <td>NaN</td>\n",
       "      <td>-127.0</td>\n",
       "      <td>-101.0</td>\n",
       "      <td>NaN</td>\n",
       "      <td>NaN</td>\n",
       "    </tr>\n",
       "  </tbody>\n",
       "</table>\n",
       "<p>5 rows × 51 columns</p>\n",
       "</div>"
      ],
      "text/plain": [
       "   time id_1  id_2 id_3  id_4  id_5  id_6  id_7   id_8  id_9  ...  id_41  \\\n",
       "0  0.00  NaN -98.0  NaN   NaN   NaN   NaN -97.0 -128.0   NaN  ... -115.0   \n",
       "1  0.02  NaN -98.0  NaN   NaN   NaN   NaN -97.0 -128.0   NaN  ... -114.0   \n",
       "2  0.04  NaN -95.0  NaN   NaN   NaN   NaN -97.0 -128.0   NaN  ... -113.0   \n",
       "3  0.06  NaN -94.0  NaN   NaN   NaN   NaN -97.0 -128.0   NaN  ... -112.0   \n",
       "4  0.08  NaN -95.0  NaN   NaN   NaN   NaN -97.0 -128.0   NaN  ... -112.0   \n",
       "\n",
       "   id_42  id_43  id_44  id_45  id_46  id_47  id_48  id_49  id_50  \n",
       "0  -97.0 -107.0  -60.0  -80.0    NaN -127.0 -102.0    NaN    NaN  \n",
       "1  -98.0 -108.0  -61.0 -102.0    NaN -127.0 -101.0    NaN    NaN  \n",
       "2  -95.0 -108.0  -60.0 -105.0    NaN -127.0 -102.0    NaN    NaN  \n",
       "3  -99.0 -109.0  -61.0 -104.0    NaN -127.0 -104.0    NaN    NaN  \n",
       "4 -110.0 -109.0  -62.0 -103.0    NaN -127.0 -101.0    NaN    NaN  \n",
       "\n",
       "[5 rows x 51 columns]"
      ]
     },
     "execution_count": 5,
     "metadata": {},
     "output_type": "execute_result"
    }
   ],
   "source": [
    "data = get_table_dbm(df)\n",
    "data.head()"
   ]
  },
  {
   "cell_type": "code",
   "execution_count": 6,
   "id": "108c2235",
   "metadata": {},
   "outputs": [
    {
     "data": {
      "text/html": [
       "<div>\n",
       "<style scoped>\n",
       "    .dataframe tbody tr th:only-of-type {\n",
       "        vertical-align: middle;\n",
       "    }\n",
       "\n",
       "    .dataframe tbody tr th {\n",
       "        vertical-align: top;\n",
       "    }\n",
       "\n",
       "    .dataframe thead th {\n",
       "        text-align: right;\n",
       "    }\n",
       "</style>\n",
       "<table border=\"1\" class=\"dataframe\">\n",
       "  <thead>\n",
       "    <tr style=\"text-align: right;\">\n",
       "      <th></th>\n",
       "      <th>time</th>\n",
       "      <th>id_1</th>\n",
       "      <th>id_2</th>\n",
       "      <th>id_3</th>\n",
       "      <th>id_4</th>\n",
       "      <th>id_5</th>\n",
       "      <th>id_6</th>\n",
       "      <th>id_7</th>\n",
       "      <th>id_8</th>\n",
       "      <th>id_9</th>\n",
       "      <th>...</th>\n",
       "      <th>id_41</th>\n",
       "      <th>id_42</th>\n",
       "      <th>id_43</th>\n",
       "      <th>id_44</th>\n",
       "      <th>id_45</th>\n",
       "      <th>id_46</th>\n",
       "      <th>id_47</th>\n",
       "      <th>id_48</th>\n",
       "      <th>id_49</th>\n",
       "      <th>id_50</th>\n",
       "    </tr>\n",
       "  </thead>\n",
       "  <tbody>\n",
       "    <tr>\n",
       "      <th>0</th>\n",
       "      <td>0.00</td>\n",
       "      <td>-160</td>\n",
       "      <td>-98.0</td>\n",
       "      <td>-160</td>\n",
       "      <td>-160.0</td>\n",
       "      <td>-160.0</td>\n",
       "      <td>-160.0</td>\n",
       "      <td>-97.0</td>\n",
       "      <td>-128.0</td>\n",
       "      <td>-160.0</td>\n",
       "      <td>...</td>\n",
       "      <td>-115.0</td>\n",
       "      <td>-97.0</td>\n",
       "      <td>-107.0</td>\n",
       "      <td>-60.0</td>\n",
       "      <td>-80.0</td>\n",
       "      <td>-160</td>\n",
       "      <td>-127.0</td>\n",
       "      <td>-102.0</td>\n",
       "      <td>-160.0</td>\n",
       "      <td>-160.0</td>\n",
       "    </tr>\n",
       "    <tr>\n",
       "      <th>1</th>\n",
       "      <td>0.02</td>\n",
       "      <td>-160</td>\n",
       "      <td>-98.0</td>\n",
       "      <td>-160</td>\n",
       "      <td>-160.0</td>\n",
       "      <td>-160.0</td>\n",
       "      <td>-160.0</td>\n",
       "      <td>-97.0</td>\n",
       "      <td>-128.0</td>\n",
       "      <td>-160.0</td>\n",
       "      <td>...</td>\n",
       "      <td>-114.0</td>\n",
       "      <td>-98.0</td>\n",
       "      <td>-108.0</td>\n",
       "      <td>-61.0</td>\n",
       "      <td>-102.0</td>\n",
       "      <td>-160</td>\n",
       "      <td>-127.0</td>\n",
       "      <td>-101.0</td>\n",
       "      <td>-160.0</td>\n",
       "      <td>-160.0</td>\n",
       "    </tr>\n",
       "    <tr>\n",
       "      <th>2</th>\n",
       "      <td>0.04</td>\n",
       "      <td>-160</td>\n",
       "      <td>-95.0</td>\n",
       "      <td>-160</td>\n",
       "      <td>-160.0</td>\n",
       "      <td>-160.0</td>\n",
       "      <td>-160.0</td>\n",
       "      <td>-97.0</td>\n",
       "      <td>-128.0</td>\n",
       "      <td>-160.0</td>\n",
       "      <td>...</td>\n",
       "      <td>-113.0</td>\n",
       "      <td>-95.0</td>\n",
       "      <td>-108.0</td>\n",
       "      <td>-60.0</td>\n",
       "      <td>-105.0</td>\n",
       "      <td>-160</td>\n",
       "      <td>-127.0</td>\n",
       "      <td>-102.0</td>\n",
       "      <td>-160.0</td>\n",
       "      <td>-160.0</td>\n",
       "    </tr>\n",
       "    <tr>\n",
       "      <th>3</th>\n",
       "      <td>0.06</td>\n",
       "      <td>-160</td>\n",
       "      <td>-94.0</td>\n",
       "      <td>-160</td>\n",
       "      <td>-160.0</td>\n",
       "      <td>-160.0</td>\n",
       "      <td>-160.0</td>\n",
       "      <td>-97.0</td>\n",
       "      <td>-128.0</td>\n",
       "      <td>-160.0</td>\n",
       "      <td>...</td>\n",
       "      <td>-112.0</td>\n",
       "      <td>-99.0</td>\n",
       "      <td>-109.0</td>\n",
       "      <td>-61.0</td>\n",
       "      <td>-104.0</td>\n",
       "      <td>-160</td>\n",
       "      <td>-127.0</td>\n",
       "      <td>-104.0</td>\n",
       "      <td>-160.0</td>\n",
       "      <td>-160.0</td>\n",
       "    </tr>\n",
       "    <tr>\n",
       "      <th>4</th>\n",
       "      <td>0.08</td>\n",
       "      <td>-160</td>\n",
       "      <td>-95.0</td>\n",
       "      <td>-160</td>\n",
       "      <td>-160.0</td>\n",
       "      <td>-160.0</td>\n",
       "      <td>-160.0</td>\n",
       "      <td>-97.0</td>\n",
       "      <td>-128.0</td>\n",
       "      <td>-160.0</td>\n",
       "      <td>...</td>\n",
       "      <td>-112.0</td>\n",
       "      <td>-110.0</td>\n",
       "      <td>-109.0</td>\n",
       "      <td>-62.0</td>\n",
       "      <td>-103.0</td>\n",
       "      <td>-160</td>\n",
       "      <td>-127.0</td>\n",
       "      <td>-101.0</td>\n",
       "      <td>-160.0</td>\n",
       "      <td>-160.0</td>\n",
       "    </tr>\n",
       "  </tbody>\n",
       "</table>\n",
       "<p>5 rows × 51 columns</p>\n",
       "</div>"
      ],
      "text/plain": [
       "   time  id_1  id_2  id_3   id_4   id_5   id_6  id_7   id_8   id_9  ...  \\\n",
       "0  0.00  -160 -98.0  -160 -160.0 -160.0 -160.0 -97.0 -128.0 -160.0  ...   \n",
       "1  0.02  -160 -98.0  -160 -160.0 -160.0 -160.0 -97.0 -128.0 -160.0  ...   \n",
       "2  0.04  -160 -95.0  -160 -160.0 -160.0 -160.0 -97.0 -128.0 -160.0  ...   \n",
       "3  0.06  -160 -94.0  -160 -160.0 -160.0 -160.0 -97.0 -128.0 -160.0  ...   \n",
       "4  0.08  -160 -95.0  -160 -160.0 -160.0 -160.0 -97.0 -128.0 -160.0  ...   \n",
       "\n",
       "   id_41  id_42  id_43  id_44  id_45  id_46  id_47  id_48  id_49  id_50  \n",
       "0 -115.0  -97.0 -107.0  -60.0  -80.0   -160 -127.0 -102.0 -160.0 -160.0  \n",
       "1 -114.0  -98.0 -108.0  -61.0 -102.0   -160 -127.0 -101.0 -160.0 -160.0  \n",
       "2 -113.0  -95.0 -108.0  -60.0 -105.0   -160 -127.0 -102.0 -160.0 -160.0  \n",
       "3 -112.0  -99.0 -109.0  -61.0 -104.0   -160 -127.0 -104.0 -160.0 -160.0  \n",
       "4 -112.0 -110.0 -109.0  -62.0 -103.0   -160 -127.0 -101.0 -160.0 -160.0  \n",
       "\n",
       "[5 rows x 51 columns]"
      ]
     },
     "execution_count": 6,
     "metadata": {},
     "output_type": "execute_result"
    }
   ],
   "source": [
    "data = data.fillna(nan_fill)\n",
    "data.head()"
   ]
  },
  {
   "cell_type": "code",
   "execution_count": 7,
   "id": "22a97dbb",
   "metadata": {},
   "outputs": [
    {
     "data": {
      "text/plain": [
       "(3001, 51)"
      ]
     },
     "execution_count": 7,
     "metadata": {},
     "output_type": "execute_result"
    }
   ],
   "source": [
    "data.shape"
   ]
  },
  {
   "cell_type": "code",
   "execution_count": 8,
   "id": "6c3d2e2c",
   "metadata": {},
   "outputs": [
    {
     "data": {
      "text/plain": [
       "60.0"
      ]
     },
     "execution_count": 8,
     "metadata": {},
     "output_type": "execute_result"
    }
   ],
   "source": [
    "data['time'].max()"
   ]
  },
  {
   "cell_type": "markdown",
   "id": "90df1352",
   "metadata": {},
   "source": [
    "## Preparing the data for LSTM"
   ]
  },
  {
   "cell_type": "code",
   "execution_count": 9,
   "id": "084dadff",
   "metadata": {},
   "outputs": [
    {
     "data": {
      "text/plain": [
       "3001"
      ]
     },
     "execution_count": 9,
     "metadata": {},
     "output_type": "execute_result"
    }
   ],
   "source": [
    "length = data.shape[0]\n",
    "length"
   ]
  },
  {
   "cell_type": "code",
   "execution_count": 10,
   "id": "30cf27aa",
   "metadata": {
    "scrolled": true
   },
   "outputs": [
    {
     "data": {
      "text/html": [
       "<div>\n",
       "<style scoped>\n",
       "    .dataframe tbody tr th:only-of-type {\n",
       "        vertical-align: middle;\n",
       "    }\n",
       "\n",
       "    .dataframe tbody tr th {\n",
       "        vertical-align: top;\n",
       "    }\n",
       "\n",
       "    .dataframe thead th {\n",
       "        text-align: right;\n",
       "    }\n",
       "</style>\n",
       "<table border=\"1\" class=\"dataframe\">\n",
       "  <thead>\n",
       "    <tr style=\"text-align: right;\">\n",
       "      <th></th>\n",
       "      <th>id_1</th>\n",
       "      <th>id_2</th>\n",
       "      <th>id_3</th>\n",
       "      <th>id_4</th>\n",
       "      <th>id_5</th>\n",
       "      <th>id_6</th>\n",
       "      <th>id_7</th>\n",
       "      <th>id_8</th>\n",
       "      <th>id_9</th>\n",
       "      <th>id_10</th>\n",
       "      <th>...</th>\n",
       "      <th>id_41</th>\n",
       "      <th>id_42</th>\n",
       "      <th>id_43</th>\n",
       "      <th>id_44</th>\n",
       "      <th>id_45</th>\n",
       "      <th>id_46</th>\n",
       "      <th>id_47</th>\n",
       "      <th>id_48</th>\n",
       "      <th>id_49</th>\n",
       "      <th>id_50</th>\n",
       "    </tr>\n",
       "  </thead>\n",
       "  <tbody>\n",
       "    <tr>\n",
       "      <th>0</th>\n",
       "      <td>-160</td>\n",
       "      <td>-98.0</td>\n",
       "      <td>-160</td>\n",
       "      <td>-160.0</td>\n",
       "      <td>-160.0</td>\n",
       "      <td>-160.0</td>\n",
       "      <td>-97.0</td>\n",
       "      <td>-128.0</td>\n",
       "      <td>-160.0</td>\n",
       "      <td>-116.0</td>\n",
       "      <td>...</td>\n",
       "      <td>-115.0</td>\n",
       "      <td>-97.0</td>\n",
       "      <td>-107.0</td>\n",
       "      <td>-60.0</td>\n",
       "      <td>-80.0</td>\n",
       "      <td>-160</td>\n",
       "      <td>-127.0</td>\n",
       "      <td>-102.0</td>\n",
       "      <td>-160.0</td>\n",
       "      <td>-160.0</td>\n",
       "    </tr>\n",
       "    <tr>\n",
       "      <th>1</th>\n",
       "      <td>-160</td>\n",
       "      <td>-98.0</td>\n",
       "      <td>-160</td>\n",
       "      <td>-160.0</td>\n",
       "      <td>-160.0</td>\n",
       "      <td>-160.0</td>\n",
       "      <td>-97.0</td>\n",
       "      <td>-128.0</td>\n",
       "      <td>-160.0</td>\n",
       "      <td>-119.0</td>\n",
       "      <td>...</td>\n",
       "      <td>-114.0</td>\n",
       "      <td>-98.0</td>\n",
       "      <td>-108.0</td>\n",
       "      <td>-61.0</td>\n",
       "      <td>-102.0</td>\n",
       "      <td>-160</td>\n",
       "      <td>-127.0</td>\n",
       "      <td>-101.0</td>\n",
       "      <td>-160.0</td>\n",
       "      <td>-160.0</td>\n",
       "    </tr>\n",
       "    <tr>\n",
       "      <th>2</th>\n",
       "      <td>-160</td>\n",
       "      <td>-95.0</td>\n",
       "      <td>-160</td>\n",
       "      <td>-160.0</td>\n",
       "      <td>-160.0</td>\n",
       "      <td>-160.0</td>\n",
       "      <td>-97.0</td>\n",
       "      <td>-128.0</td>\n",
       "      <td>-160.0</td>\n",
       "      <td>-118.0</td>\n",
       "      <td>...</td>\n",
       "      <td>-113.0</td>\n",
       "      <td>-95.0</td>\n",
       "      <td>-108.0</td>\n",
       "      <td>-60.0</td>\n",
       "      <td>-105.0</td>\n",
       "      <td>-160</td>\n",
       "      <td>-127.0</td>\n",
       "      <td>-102.0</td>\n",
       "      <td>-160.0</td>\n",
       "      <td>-160.0</td>\n",
       "    </tr>\n",
       "    <tr>\n",
       "      <th>3</th>\n",
       "      <td>-160</td>\n",
       "      <td>-94.0</td>\n",
       "      <td>-160</td>\n",
       "      <td>-160.0</td>\n",
       "      <td>-160.0</td>\n",
       "      <td>-160.0</td>\n",
       "      <td>-97.0</td>\n",
       "      <td>-128.0</td>\n",
       "      <td>-160.0</td>\n",
       "      <td>-115.0</td>\n",
       "      <td>...</td>\n",
       "      <td>-112.0</td>\n",
       "      <td>-99.0</td>\n",
       "      <td>-109.0</td>\n",
       "      <td>-61.0</td>\n",
       "      <td>-104.0</td>\n",
       "      <td>-160</td>\n",
       "      <td>-127.0</td>\n",
       "      <td>-104.0</td>\n",
       "      <td>-160.0</td>\n",
       "      <td>-160.0</td>\n",
       "    </tr>\n",
       "    <tr>\n",
       "      <th>4</th>\n",
       "      <td>-160</td>\n",
       "      <td>-95.0</td>\n",
       "      <td>-160</td>\n",
       "      <td>-160.0</td>\n",
       "      <td>-160.0</td>\n",
       "      <td>-160.0</td>\n",
       "      <td>-97.0</td>\n",
       "      <td>-128.0</td>\n",
       "      <td>-160.0</td>\n",
       "      <td>-117.0</td>\n",
       "      <td>...</td>\n",
       "      <td>-112.0</td>\n",
       "      <td>-110.0</td>\n",
       "      <td>-109.0</td>\n",
       "      <td>-62.0</td>\n",
       "      <td>-103.0</td>\n",
       "      <td>-160</td>\n",
       "      <td>-127.0</td>\n",
       "      <td>-101.0</td>\n",
       "      <td>-160.0</td>\n",
       "      <td>-160.0</td>\n",
       "    </tr>\n",
       "  </tbody>\n",
       "</table>\n",
       "<p>5 rows × 50 columns</p>\n",
       "</div>"
      ],
      "text/plain": [
       "   id_1  id_2  id_3   id_4   id_5   id_6  id_7   id_8   id_9  id_10  ...  \\\n",
       "0  -160 -98.0  -160 -160.0 -160.0 -160.0 -97.0 -128.0 -160.0 -116.0  ...   \n",
       "1  -160 -98.0  -160 -160.0 -160.0 -160.0 -97.0 -128.0 -160.0 -119.0  ...   \n",
       "2  -160 -95.0  -160 -160.0 -160.0 -160.0 -97.0 -128.0 -160.0 -118.0  ...   \n",
       "3  -160 -94.0  -160 -160.0 -160.0 -160.0 -97.0 -128.0 -160.0 -115.0  ...   \n",
       "4  -160 -95.0  -160 -160.0 -160.0 -160.0 -97.0 -128.0 -160.0 -117.0  ...   \n",
       "\n",
       "   id_41  id_42  id_43  id_44  id_45  id_46  id_47  id_48  id_49  id_50  \n",
       "0 -115.0  -97.0 -107.0  -60.0  -80.0   -160 -127.0 -102.0 -160.0 -160.0  \n",
       "1 -114.0  -98.0 -108.0  -61.0 -102.0   -160 -127.0 -101.0 -160.0 -160.0  \n",
       "2 -113.0  -95.0 -108.0  -60.0 -105.0   -160 -127.0 -102.0 -160.0 -160.0  \n",
       "3 -112.0  -99.0 -109.0  -61.0 -104.0   -160 -127.0 -104.0 -160.0 -160.0  \n",
       "4 -112.0 -110.0 -109.0  -62.0 -103.0   -160 -127.0 -101.0 -160.0 -160.0  \n",
       "\n",
       "[5 rows x 50 columns]"
      ]
     },
     "execution_count": 10,
     "metadata": {},
     "output_type": "execute_result"
    }
   ],
   "source": [
    "data_fea = data.iloc[:, 1 :]\n",
    "data_fea.head()"
   ]
  },
  {
   "cell_type": "code",
   "execution_count": 11,
   "id": "85e5a518",
   "metadata": {
    "scrolled": false
   },
   "outputs": [
    {
     "data": {
      "text/plain": [
       "array([[-160.,  -98., -160., -160., -160., -160.,  -97., -128., -160.,\n",
       "        -116., -160., -113., -160.,  -85.,  -78., -123.,  -98.,  -82.,\n",
       "        -112.,  -98.,  -97., -112.,  -93., -160., -118., -102., -105.,\n",
       "         -55., -111., -160., -110.,  -91., -108.,  -73.,  -94., -114.,\n",
       "        -110.,  -75., -112., -113., -115.,  -97., -107.,  -60.,  -80.,\n",
       "        -160., -127., -102., -160., -160.],\n",
       "       [-160.,  -98., -160., -160., -160., -160.,  -97., -128., -160.,\n",
       "        -119., -160., -114., -160.,  -72.,  -76., -123.,  -97.,  -81.,\n",
       "        -114.,  -99.,  -96., -112.,  -92., -160., -119., -101., -105.,\n",
       "         -55., -111., -166., -108.,  -89., -106.,  -74.,  -95., -118.,\n",
       "        -110.,  -78., -104., -113., -114.,  -98., -108.,  -61., -102.,\n",
       "        -160., -127., -101., -160., -160.],\n",
       "       [-160.,  -95., -160., -160., -160., -160.,  -97., -128., -160.,\n",
       "        -118., -160., -114., -160.,  -72.,  -77., -123.,  -97.,  -81.,\n",
       "        -113.,  -96.,  -96., -111.,  -93., -160., -119.,  -97., -104.,\n",
       "         -55., -108., -166., -106.,  -88., -101.,  -73.,  -97., -125.,\n",
       "        -110.,  -76., -105., -117., -113.,  -95., -108.,  -60., -105.,\n",
       "        -160., -127., -102., -160., -160.]])"
      ]
     },
     "execution_count": 11,
     "metadata": {},
     "output_type": "execute_result"
    }
   ],
   "source": [
    "data_fea = data_fea.to_numpy()\n",
    "data_fea[: 3]"
   ]
  },
  {
   "cell_type": "code",
   "execution_count": 12,
   "id": "7e2b5ba2",
   "metadata": {
    "scrolled": true
   },
   "outputs": [
    {
     "data": {
      "text/plain": [
       "array([[0.        , 0.45070423, 0.        , 0.        , 0.        ,\n",
       "        0.        , 0.64948454, 0.46376812, 0.        , 0.39285714,\n",
       "        0.        , 0.78333333, 0.        , 0.67123288, 0.82727273,\n",
       "        0.578125  , 0.73202614, 0.61904762, 0.38571429, 0.39473684,\n",
       "        0.57272727, 0.64      , 0.4       , 0.        , 0.54545455,\n",
       "        0.36      , 0.57798165, 1.        , 0.42608696, 0.07792208,\n",
       "        0.66666667, 0.525     , 0.26760563, 0.725     , 0.69473684,\n",
       "        0.23655914, 0.87719298, 0.828125  , 0.48      , 0.55294118,\n",
       "        0.66037736, 0.4       , 0.56382979, 0.89285714, 0.7079646 ,\n",
       "        0.        , 0.12820513, 0.59793814, 0.        , 0.        ],\n",
       "       [0.        , 0.45070423, 0.        , 0.        , 0.        ,\n",
       "        0.        , 0.64948454, 0.46376812, 0.        , 0.36607143,\n",
       "        0.        , 0.76666667, 0.        , 0.84931507, 0.84545455,\n",
       "        0.578125  , 0.73856209, 0.63095238, 0.35714286, 0.38157895,\n",
       "        0.58181818, 0.64      , 0.41818182, 0.        , 0.53246753,\n",
       "        0.37333333, 0.57798165, 1.        , 0.42608696, 0.        ,\n",
       "        0.69333333, 0.55      , 0.29577465, 0.71666667, 0.68421053,\n",
       "        0.19354839, 0.87719298, 0.8046875 , 0.56      , 0.55294118,\n",
       "        0.67924528, 0.38333333, 0.55319149, 0.88392857, 0.51327434,\n",
       "        0.        , 0.12820513, 0.60824742, 0.        , 0.        ],\n",
       "       [0.        , 0.49295775, 0.        , 0.        , 0.        ,\n",
       "        0.        , 0.64948454, 0.46376812, 0.        , 0.375     ,\n",
       "        0.        , 0.76666667, 0.        , 0.84931507, 0.83636364,\n",
       "        0.578125  , 0.73856209, 0.63095238, 0.37142857, 0.42105263,\n",
       "        0.58181818, 0.65333333, 0.4       , 0.        , 0.53246753,\n",
       "        0.42666667, 0.58715596, 1.        , 0.45217391, 0.        ,\n",
       "        0.72      , 0.5625    , 0.36619718, 0.725     , 0.66315789,\n",
       "        0.11827957, 0.87719298, 0.8203125 , 0.55      , 0.50588235,\n",
       "        0.69811321, 0.43333333, 0.55319149, 0.89285714, 0.48672566,\n",
       "        0.        , 0.12820513, 0.59793814, 0.        , 0.        ]])"
      ]
     },
     "execution_count": 12,
     "metadata": {},
     "output_type": "execute_result"
    }
   ],
   "source": [
    "# min max scaler\n",
    "sc=MinMaxScaler()\n",
    "\n",
    "DataScaler = sc.fit(data_fea)\n",
    "data_fea=DataScaler.transform(data_fea)\n",
    "data_fea[: 3]"
   ]
  },
  {
   "cell_type": "code",
   "execution_count": 13,
   "id": "aa14bc08",
   "metadata": {
    "scrolled": true
   },
   "outputs": [],
   "source": [
    "X_data = list()\n",
    "y_data = list()\n",
    "\n",
    "# Iterate thru the values to create combinations\n",
    "for i in range(timesteps , length , 1):\n",
    "    x_sample = data_fea[i-timesteps:i]\n",
    "    y_sample = data_fea[i]\n",
    "    X_data.append(x_sample)\n",
    "    y_data.append(y_sample)"
   ]
  },
  {
   "cell_type": "code",
   "execution_count": 14,
   "id": "5a052351",
   "metadata": {},
   "outputs": [
    {
     "data": {
      "text/plain": [
       "(5, 50)"
      ]
     },
     "execution_count": 14,
     "metadata": {},
     "output_type": "execute_result"
    }
   ],
   "source": [
    "X_data[0].shape"
   ]
  },
  {
   "cell_type": "code",
   "execution_count": 15,
   "id": "6fb201aa",
   "metadata": {},
   "outputs": [
    {
     "name": "stdout",
     "output_type": "stream",
     "text": [
      "X_data shape:  (2996, 5, 50)\n",
      "y_data shape:  (2996, 50)\n"
     ]
    }
   ],
   "source": [
    "X_data = np.array(X_data)\n",
    "y_data = np.array(y_data)\n",
    "\n",
    "print('X_data shape: ',X_data.shape)\n",
    "print('y_data shape: ',y_data.shape)"
   ]
  },
  {
   "cell_type": "markdown",
   "id": "00fda932",
   "metadata": {},
   "source": [
    "## split train and text"
   ]
  },
  {
   "cell_type": "code",
   "execution_count": 16,
   "id": "f2b8621d",
   "metadata": {},
   "outputs": [
    {
     "name": "stdout",
     "output_type": "stream",
     "text": [
      "train_x shape: (2100, 5, 50)\n",
      "train_y shape: (2100, 50)\n",
      "test_x shape: (896, 5, 50)\n",
      "test_y shape: (896, 50)\n"
     ]
    }
   ],
   "source": [
    "train_x = X_data[: int(length * train_size)]\n",
    "train_y = y_data[: int(length * train_size)]\n",
    "\n",
    "test_x = X_data[int(length * train_size) :]\n",
    "test_y = y_data[int(length * train_size) :]\n",
    "\n",
    "print('train_x shape:',train_x.shape)\n",
    "print('train_y shape:',train_y.shape)\n",
    "\n",
    "print('test_x shape:',test_x.shape)\n",
    "print('test_y shape:',test_y.shape)"
   ]
  },
  {
   "cell_type": "code",
   "execution_count": 17,
   "id": "40f720f2",
   "metadata": {},
   "outputs": [
    {
     "data": {
      "text/plain": [
       "5"
      ]
     },
     "execution_count": 17,
     "metadata": {},
     "output_type": "execute_result"
    }
   ],
   "source": [
    "timesteps"
   ]
  },
  {
   "cell_type": "code",
   "execution_count": 18,
   "id": "98fa9083",
   "metadata": {},
   "outputs": [
    {
     "data": {
      "text/plain": [
       "50"
      ]
     },
     "execution_count": 18,
     "metadata": {},
     "output_type": "execute_result"
    }
   ],
   "source": [
    "totalfeatures = train_x.shape[2]\n",
    "totalfeatures"
   ]
  },
  {
   "cell_type": "code",
   "execution_count": 19,
   "id": "4e89b7eb",
   "metadata": {
    "scrolled": true
   },
   "outputs": [
    {
     "data": {
      "text/plain": [
       "array([[0.        , 0.45070423, 0.        , 0.        , 0.        ,\n",
       "        0.        , 0.64948454, 0.46376812, 0.        , 0.36607143,\n",
       "        0.        , 0.76666667, 0.        , 0.84931507, 0.84545455,\n",
       "        0.578125  , 0.73856209, 0.63095238, 0.35714286, 0.38157895,\n",
       "        0.58181818, 0.64      , 0.41818182, 0.        , 0.53246753,\n",
       "        0.37333333, 0.57798165, 1.        , 0.42608696, 0.        ,\n",
       "        0.69333333, 0.55      , 0.29577465, 0.71666667, 0.68421053,\n",
       "        0.19354839, 0.87719298, 0.8046875 , 0.56      , 0.55294118,\n",
       "        0.67924528, 0.38333333, 0.55319149, 0.88392857, 0.51327434,\n",
       "        0.        , 0.12820513, 0.60824742, 0.        , 0.        ],\n",
       "       [0.        , 0.49295775, 0.        , 0.        , 0.        ,\n",
       "        0.        , 0.64948454, 0.46376812, 0.        , 0.375     ,\n",
       "        0.        , 0.76666667, 0.        , 0.84931507, 0.83636364,\n",
       "        0.578125  , 0.73856209, 0.63095238, 0.37142857, 0.42105263,\n",
       "        0.58181818, 0.65333333, 0.4       , 0.        , 0.53246753,\n",
       "        0.42666667, 0.58715596, 1.        , 0.45217391, 0.        ,\n",
       "        0.72      , 0.5625    , 0.36619718, 0.725     , 0.66315789,\n",
       "        0.11827957, 0.87719298, 0.8203125 , 0.55      , 0.50588235,\n",
       "        0.69811321, 0.43333333, 0.55319149, 0.89285714, 0.48672566,\n",
       "        0.        , 0.12820513, 0.59793814, 0.        , 0.        ],\n",
       "       [0.        , 0.50704225, 0.        , 0.        , 0.        ,\n",
       "        0.        , 0.64948454, 0.46376812, 0.        , 0.40178571,\n",
       "        0.        , 0.76666667, 0.        , 0.7260274 , 0.86363636,\n",
       "        0.578125  , 0.73856209, 0.61904762, 0.37142857, 0.46052632,\n",
       "        0.58181818, 0.65333333, 0.47272727, 0.        , 0.53246753,\n",
       "        0.41333333, 0.59633028, 1.        , 0.46086957, 0.        ,\n",
       "        0.73333333, 0.5625    , 0.42253521, 0.65833333, 0.65263158,\n",
       "        0.24731183, 0.87719298, 0.84375   , 0.51      , 0.49411765,\n",
       "        0.71698113, 0.36666667, 0.54255319, 0.88392857, 0.49557522,\n",
       "        0.        , 0.12820513, 0.57731959, 0.        , 0.        ],\n",
       "       [0.        , 0.49295775, 0.        , 0.        , 0.        ,\n",
       "        0.        , 0.64948454, 0.46376812, 0.        , 0.38392857,\n",
       "        0.        , 0.76666667, 0.        , 0.7260274 , 0.85454545,\n",
       "        0.578125  , 0.73856209, 0.61904762, 0.34285714, 0.47368421,\n",
       "        0.58181818, 0.65333333, 0.47272727, 0.        , 0.54545455,\n",
       "        0.37333333, 0.60550459, 1.        , 0.48695652, 0.        ,\n",
       "        0.74666667, 0.5625    , 0.43661972, 0.75833333, 0.61052632,\n",
       "        0.1827957 , 0.87719298, 0.75      , 0.57      , 0.55294118,\n",
       "        0.71698113, 0.18333333, 0.54255319, 0.875     , 0.50442478,\n",
       "        0.        , 0.12820513, 0.60824742, 0.        , 0.        ],\n",
       "       [0.        , 0.43661972, 0.        , 0.        , 0.        ,\n",
       "        0.        , 0.56701031, 0.46376812, 0.        , 0.375     ,\n",
       "        0.        , 0.76666667, 0.        , 0.82191781, 0.73636364,\n",
       "        0.578125  , 0.73856209, 0.41666667, 0.4       , 0.47368421,\n",
       "        0.58181818, 0.65333333, 0.47272727, 0.        , 0.57142857,\n",
       "        0.4       , 0.60550459, 0.98550725, 0.49565217, 0.        ,\n",
       "        0.76      , 0.5625    , 0.43661972, 0.74166667, 0.47368421,\n",
       "        0.19354839, 0.85964912, 0.8671875 , 0.56      , 0.55294118,\n",
       "        0.71698113, 0.38333333, 0.53191489, 0.90178571, 0.51327434,\n",
       "        0.        , 0.12820513, 0.62886598, 0.        , 0.        ]])"
      ]
     },
     "execution_count": 19,
     "metadata": {},
     "output_type": "execute_result"
    }
   ],
   "source": [
    "train_x[1]"
   ]
  },
  {
   "cell_type": "code",
   "execution_count": 20,
   "id": "1e952770",
   "metadata": {},
   "outputs": [
    {
     "data": {
      "text/plain": [
       "array([0.        , 0.42253521, 0.        , 0.        , 0.        ,\n",
       "       0.        , 0.59793814, 0.47826087, 0.        , 0.40178571,\n",
       "       0.        , 0.76666667, 0.        , 0.78082192, 0.8       ,\n",
       "       0.578125  , 0.73202614, 0.4047619 , 0.21428571, 0.47368421,\n",
       "       0.59090909, 0.65333333, 0.45454545, 0.        , 0.58441558,\n",
       "       0.33333333, 0.60550459, 0.98550725, 0.43478261, 0.        ,\n",
       "       0.76      , 0.5625    , 0.3943662 , 0.74166667, 0.66315789,\n",
       "       0.21505376, 0.85964912, 0.8671875 , 0.54      , 0.49411765,\n",
       "       0.71698113, 0.48333333, 0.53191489, 0.91964286, 0.49557522,\n",
       "       0.        , 0.12820513, 0.6185567 , 0.        , 0.        ])"
      ]
     },
     "execution_count": 20,
     "metadata": {},
     "output_type": "execute_result"
    }
   ],
   "source": [
    "train_y[1]"
   ]
  },
  {
   "cell_type": "code",
   "execution_count": 28,
   "id": "ef4d9275",
   "metadata": {},
   "outputs": [],
   "source": [
    "lr = 0.001\n",
    "epoch = 50\n",
    "batchsize = 5"
   ]
  },
  {
   "cell_type": "code",
   "execution_count": 22,
   "id": "c5a224e8",
   "metadata": {
    "scrolled": true
   },
   "outputs": [
    {
     "name": "stdout",
     "output_type": "stream",
     "text": [
      "Epoch 1/50\n",
      "420/420 [==============================] - 6s 7ms/step - loss: 0.0475 - mae: 0.1495\n",
      "Epoch 2/50\n",
      "420/420 [==============================] - 3s 7ms/step - loss: 0.0175 - mae: 0.0910\n",
      "Epoch 3/50\n",
      "420/420 [==============================] - 4s 8ms/step - loss: 0.0129 - mae: 0.0772\n",
      "Epoch 4/50\n",
      "420/420 [==============================] - 3s 8ms/step - loss: 0.0110 - mae: 0.0708\n",
      "Epoch 5/50\n",
      "420/420 [==============================] - 3s 7ms/step - loss: 0.0098 - mae: 0.0666\n",
      "Epoch 6/50\n",
      "420/420 [==============================] - 3s 7ms/step - loss: 0.0092 - mae: 0.0646\n",
      "Epoch 7/50\n",
      "420/420 [==============================] - 3s 8ms/step - loss: 0.0088 - mae: 0.0629\n",
      "Epoch 8/50\n",
      "420/420 [==============================] - 3s 8ms/step - loss: 0.0084 - mae: 0.0614\n",
      "Epoch 9/50\n",
      "420/420 [==============================] - 3s 8ms/step - loss: 0.0081 - mae: 0.0602\n",
      "Epoch 10/50\n",
      "420/420 [==============================] - 3s 8ms/step - loss: 0.0078 - mae: 0.0585\n",
      "Epoch 11/50\n",
      "420/420 [==============================] - 3s 8ms/step - loss: 0.0075 - mae: 0.0570\n",
      "Epoch 12/50\n",
      "420/420 [==============================] - 3s 8ms/step - loss: 0.0073 - mae: 0.0560\n",
      "Epoch 13/50\n",
      "420/420 [==============================] - 3s 8ms/step - loss: 0.0071 - mae: 0.0551\n",
      "Epoch 14/50\n",
      "420/420 [==============================] - 3s 8ms/step - loss: 0.0069 - mae: 0.0543\n",
      "Epoch 15/50\n",
      "420/420 [==============================] - 3s 8ms/step - loss: 0.0067 - mae: 0.0537\n",
      "Epoch 16/50\n",
      "420/420 [==============================] - 3s 8ms/step - loss: 0.0067 - mae: 0.0532\n",
      "Epoch 17/50\n",
      "420/420 [==============================] - 3s 8ms/step - loss: 0.0065 - mae: 0.0525\n",
      "Epoch 18/50\n",
      "420/420 [==============================] - 4s 9ms/step - loss: 0.0065 - mae: 0.0523\n",
      "Epoch 19/50\n",
      "420/420 [==============================] - 4s 9ms/step - loss: 0.0064 - mae: 0.0518\n",
      "Epoch 20/50\n",
      "420/420 [==============================] - 3s 8ms/step - loss: 0.0063 - mae: 0.0517\n",
      "Epoch 21/50\n",
      "420/420 [==============================] - 3s 8ms/step - loss: 0.0062 - mae: 0.0508\n",
      "Epoch 22/50\n",
      "420/420 [==============================] - 3s 8ms/step - loss: 0.0060 - mae: 0.0500\n",
      "Epoch 23/50\n",
      "420/420 [==============================] - 3s 7ms/step - loss: 0.0060 - mae: 0.0496\n",
      "Epoch 24/50\n",
      "420/420 [==============================] - 3s 7ms/step - loss: 0.0059 - mae: 0.0493\n",
      "Epoch 25/50\n",
      "420/420 [==============================] - 4s 8ms/step - loss: 0.0059 - mae: 0.0492\n",
      "Epoch 26/50\n",
      "420/420 [==============================] - 4s 9ms/step - loss: 0.0058 - mae: 0.0490\n",
      "Epoch 27/50\n",
      "420/420 [==============================] - 3s 8ms/step - loss: 0.0058 - mae: 0.0489\n",
      "Epoch 28/50\n",
      "420/420 [==============================] - 3s 8ms/step - loss: 0.0058 - mae: 0.0489\n",
      "Epoch 29/50\n",
      "420/420 [==============================] - 3s 7ms/step - loss: 0.0057 - mae: 0.0484\n",
      "Epoch 30/50\n",
      "420/420 [==============================] - 3s 8ms/step - loss: 0.0057 - mae: 0.0484\n",
      "Epoch 31/50\n",
      "420/420 [==============================] - 3s 8ms/step - loss: 0.0057 - mae: 0.0484\n",
      "Epoch 32/50\n",
      "420/420 [==============================] - 3s 8ms/step - loss: 0.0057 - mae: 0.0483\n",
      "Epoch 33/50\n",
      "420/420 [==============================] - 3s 8ms/step - loss: 0.0056 - mae: 0.0480\n",
      "Epoch 34/50\n",
      "420/420 [==============================] - 3s 7ms/step - loss: 0.0056 - mae: 0.0480\n",
      "Epoch 35/50\n",
      "420/420 [==============================] - 4s 10ms/step - loss: 0.0056 - mae: 0.0479\n",
      "Epoch 36/50\n",
      "420/420 [==============================] - 5s 11ms/step - loss: 0.0055 - mae: 0.0477\n",
      "Epoch 37/50\n",
      "420/420 [==============================] - 4s 10ms/step - loss: 0.0055 - mae: 0.0477\n",
      "Epoch 38/50\n",
      "420/420 [==============================] - 3s 8ms/step - loss: 0.0055 - mae: 0.0475\n",
      "Epoch 39/50\n",
      "420/420 [==============================] - 3s 8ms/step - loss: 0.0055 - mae: 0.0475\n",
      "Epoch 40/50\n",
      "420/420 [==============================] - 4s 10ms/step - loss: 0.0055 - mae: 0.0473\n",
      "Epoch 41/50\n",
      "420/420 [==============================] - 4s 9ms/step - loss: 0.0055 - mae: 0.0474A: 1s - loss:\n",
      "Epoch 42/50\n",
      "420/420 [==============================] - 4s 9ms/step - loss: 0.0054 - mae: 0.0472\n",
      "Epoch 43/50\n",
      "420/420 [==============================] - 4s 10ms/step - loss: 0.0054 - mae: 0.0470\n",
      "Epoch 44/50\n",
      "420/420 [==============================] - 3s 8ms/step - loss: 0.0054 - mae: 0.0469\n",
      "Epoch 45/50\n",
      "420/420 [==============================] - 3s 8ms/step - loss: 0.0054 - mae: 0.0470\n",
      "Epoch 46/50\n",
      "420/420 [==============================] - 3s 8ms/step - loss: 0.0054 - mae: 0.0469\n",
      "Epoch 47/50\n",
      "420/420 [==============================] - 3s 8ms/step - loss: 0.0054 - mae: 0.0467\n",
      "Epoch 48/50\n",
      "420/420 [==============================] - 3s 8ms/step - loss: 0.0054 - mae: 0.0468\n",
      "Epoch 49/50\n",
      "420/420 [==============================] - 3s 7ms/step - loss: 0.0053 - mae: 0.0466\n",
      "Epoch 50/50\n",
      "420/420 [==============================] - 3s 8ms/step - loss: 0.0054 - mae: 0.0467\n",
      "## Total Time Taken:  3 Minutes ##\n"
     ]
    }
   ],
   "source": [
    "regressor = Sequential()\n",
    " \n",
    "# Adding the First input hidden layer and the LSTM layer\n",
    "# return_sequences = True, means the output of every time step to be shared with hidden next layer\n",
    "regressor.add(LSTM(units = 64, activation = 'relu', input_shape = (timesteps, totalfeatures), return_sequences=True))\n",
    " \n",
    "# Adding the Second Second hidden layer and the LSTM layer\n",
    "regressor.add(LSTM(units = 32, activation = 'relu', input_shape = (timesteps, totalfeatures), return_sequences=True))\n",
    " \n",
    "# Adding the Second Third hidden layer and the LSTM layer\n",
    "regressor.add(LSTM(units = 16, activation = 'relu', return_sequences=False ))\n",
    " \n",
    "# Adding the output layer\n",
    "regressor.add(Dense(units = totalfeatures))\n",
    " \n",
    "# Compiling the LSTM\n",
    "regressor.compile(optimizer = optimizers.Adam(learning_rate=lr), loss = 'mean_squared_error', metrics=['mae'])\n",
    " \n",
    "##################################################\n",
    " \n",
    "import time\n",
    "# Measuring the time taken by the model to train\n",
    "StartTime=time.time()\n",
    " \n",
    "# Fitting the LSTM to the Training set\n",
    "regressor.fit(train_x, train_y, batch_size = batchsize, epochs = epoch)\n",
    " \n",
    "EndTime=time.time()\n",
    "print(\"## Total Time Taken: \", round((EndTime-StartTime)/60), 'Minutes ##')"
   ]
  },
  {
   "cell_type": "code",
   "execution_count": 23,
   "id": "2bb3b91e",
   "metadata": {},
   "outputs": [
    {
     "name": "stdout",
     "output_type": "stream",
     "text": [
      "Model: \"sequential_1\"\n",
      "_________________________________________________________________\n",
      " Layer (type)                Output Shape              Param #   \n",
      "=================================================================\n",
      " lstm_1 (LSTM)               (None, 5, 64)             29440     \n",
      "                                                                 \n",
      " lstm_2 (LSTM)               (None, 5, 32)             12416     \n",
      "                                                                 \n",
      " lstm_3 (LSTM)               (None, 16)                3136      \n",
      "                                                                 \n",
      " dense (Dense)               (None, 50)                850       \n",
      "                                                                 \n",
      "=================================================================\n",
      "Total params: 45,842\n",
      "Trainable params: 45,842\n",
      "Non-trainable params: 0\n",
      "_________________________________________________________________\n"
     ]
    }
   ],
   "source": [
    "regressor.summary()"
   ]
  },
  {
   "cell_type": "markdown",
   "id": "8e831570",
   "metadata": {},
   "source": [
    "## Measuring the accuracy of the model on testing data"
   ]
  },
  {
   "cell_type": "code",
   "execution_count": 24,
   "id": "3ee3d7ef",
   "metadata": {},
   "outputs": [
    {
     "name": "stdout",
     "output_type": "stream",
     "text": [
      "Accuracy: 111.6300413066446\n"
     ]
    }
   ],
   "source": [
    "# Making predictions on test data\n",
    "predicted_dbm = regressor.predict(test_x)\n",
    "predicted_dbm = DataScaler.inverse_transform(predicted_dbm)\n",
    "predicted_dbm = predicted_dbm.astype(int)\n",
    "\n",
    " # Getting the original dbm values for testing data\n",
    "orig=test_y\n",
    "orig=DataScaler.inverse_transform(test_y)\n",
    " \n",
    "# Accuracy of the predictions\n",
    "print('Accuracy:', 100 - (100*(abs(orig-predicted_dbm)/orig)).mean())"
   ]
  },
  {
   "cell_type": "code",
   "execution_count": 25,
   "id": "70757fbc",
   "metadata": {},
   "outputs": [
    {
     "data": {
      "text/plain": [
       "12.565111607142855"
      ]
     },
     "execution_count": 25,
     "metadata": {},
     "output_type": "execute_result"
    }
   ],
   "source": [
    "mae = mean_absolute_error(y_true=orig, y_pred=predicted_dbm)\n",
    "mae"
   ]
  },
  {
   "cell_type": "code",
   "execution_count": 26,
   "id": "6b6d1f75",
   "metadata": {},
   "outputs": [
    {
     "data": {
      "text/plain": [
       "333.34533482142865"
      ]
     },
     "execution_count": 26,
     "metadata": {},
     "output_type": "execute_result"
    }
   ],
   "source": [
    "mse = mean_squared_error(y_true=orig, y_pred=predicted_dbm)\n",
    "mse"
   ]
  },
  {
   "cell_type": "code",
   "execution_count": 27,
   "id": "628b665e",
   "metadata": {
    "scrolled": true
   },
   "outputs": [
    {
     "name": "stdout",
     "output_type": "stream",
     "text": [
      "id\treal dbm\t\tpredict\n",
      "1 \t -160.0 \t\t -160\n",
      "2 \t -89.0 \t\t -112\n",
      "3 \t -160.0 \t\t -160\n",
      "4 \t -160.0 \t\t -157\n",
      "5 \t -160.0 \t\t -165\n",
      "6 \t -160.0 \t\t -152\n",
      "7 \t -160.0 \t\t -151\n",
      "8 \t -160.0 \t\t -159\n",
      "9 \t -111.0 \t\t -116\n",
      "10 \t -81.0 \t\t -97\n",
      "11 \t -160.0 \t\t -155\n",
      "12 \t -160.0 \t\t -154\n",
      "13 \t -160.0 \t\t -158\n",
      "14 \t -121.0 \t\t -109\n",
      "15 \t -116.0 \t\t -109\n",
      "16 \t -160.0 \t\t -158\n",
      "17 \t -128.0 \t\t -122\n",
      "18 \t -110.0 \t\t -108\n",
      "19 \t -126.0 \t\t -114\n",
      "20 \t -61.0 \t\t -64\n",
      "21 \t -115.0 \t\t -115\n",
      "22 \t -117.0 \t\t -116\n",
      "23 \t -104.0 \t\t -102\n",
      "24 \t -160.0 \t\t -160\n",
      "25 \t -115.0 \t\t -94\n",
      "26 \t -101.0 \t\t -104\n",
      "27 \t -75.0 \t\t -123\n",
      "28 \t -102.00000000000001 \t\t -100\n",
      "29 \t -59.0 \t\t -71\n",
      "30 \t -160.0 \t\t -168\n",
      "31 \t -100.0 \t\t -100\n",
      "32 \t -100.0 \t\t -94\n",
      "33 \t -112.0 \t\t -108\n",
      "34 \t -103.0 \t\t -107\n",
      "35 \t -97.00000000000001 \t\t -106\n",
      "36 \t -78.0 \t\t -69\n",
      "37 \t -116.00000000000001 \t\t -120\n",
      "38 \t -115.0 \t\t -122\n",
      "39 \t -160.0 \t\t -151\n",
      "40 \t -160.0 \t\t -161\n",
      "41 \t -116.0 \t\t -120\n",
      "42 \t -96.0 \t\t -100\n",
      "43 \t -86.0 \t\t -94\n",
      "44 \t -91.0 \t\t -102\n",
      "45 \t -95.0 \t\t -95\n",
      "46 \t -160.0 \t\t -160\n",
      "47 \t -104.0 \t\t -100\n",
      "48 \t -84.0 \t\t -89\n",
      "49 \t -119.0 \t\t -112\n",
      "50 \t -160.0 \t\t -160\n"
     ]
    }
   ],
   "source": [
    "print('id'+'\\t'+'real dbm'+'\\t\\t'+'predict')\n",
    "for i in range(orig[0].shape[0]):\n",
    "    print(i+1,'\\t', orig[0][i],'\\t\\t', predicted_dbm[0][i])"
   ]
  },
  {
   "cell_type": "code",
   "execution_count": null,
   "id": "c2823d6d",
   "metadata": {},
   "outputs": [],
   "source": []
  },
  {
   "cell_type": "code",
   "execution_count": null,
   "id": "a4e97365",
   "metadata": {},
   "outputs": [],
   "source": []
  },
  {
   "cell_type": "code",
   "execution_count": null,
   "id": "a23deb9f",
   "metadata": {},
   "outputs": [],
   "source": []
  },
  {
   "cell_type": "code",
   "execution_count": null,
   "id": "7b67050a",
   "metadata": {},
   "outputs": [],
   "source": []
  },
  {
   "cell_type": "code",
   "execution_count": null,
   "id": "cd308142",
   "metadata": {},
   "outputs": [],
   "source": []
  }
 ],
 "metadata": {
  "kernelspec": {
   "display_name": "Python 3 (ipykernel)",
   "language": "python",
   "name": "python3"
  },
  "language_info": {
   "codemirror_mode": {
    "name": "ipython",
    "version": 3
   },
   "file_extension": ".py",
   "mimetype": "text/x-python",
   "name": "python",
   "nbconvert_exporter": "python",
   "pygments_lexer": "ipython3",
   "version": "3.9.7"
  }
 },
 "nbformat": 4,
 "nbformat_minor": 5
}
