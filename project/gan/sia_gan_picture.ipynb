{
 "cells": [
  {
   "cell_type": "code",
   "execution_count": 1,
   "id": "09c0ea41",
   "metadata": {},
   "outputs": [],
   "source": [
    "import os\n",
    "import json\n",
    "import pandas as pd\n",
    "import numpy as np\n",
    "import ConfigReader\n",
    "import preprocess\n",
    "import random\n",
    "\n",
    "import numpy as np\n",
    "from PIL import Image\n",
    "\n",
    "import cv2\n",
    "import matplotlib.pyplot as plt"
   ]
  },
  {
   "cell_type": "code",
   "execution_count": 2,
   "id": "31c1b083",
   "metadata": {},
   "outputs": [
    {
     "data": {
      "text/html": [
       "<div>\n",
       "<style scoped>\n",
       "    .dataframe tbody tr th:only-of-type {\n",
       "        vertical-align: middle;\n",
       "    }\n",
       "\n",
       "    .dataframe tbody tr th {\n",
       "        vertical-align: top;\n",
       "    }\n",
       "\n",
       "    .dataframe thead th {\n",
       "        text-align: right;\n",
       "    }\n",
       "</style>\n",
       "<table border=\"1\" class=\"dataframe\">\n",
       "  <thead>\n",
       "    <tr style=\"text-align: right;\">\n",
       "      <th></th>\n",
       "      <th>time</th>\n",
       "      <th>tx</th>\n",
       "      <th>id</th>\n",
       "      <th>power</th>\n",
       "      <th>lon</th>\n",
       "      <th>lat</th>\n",
       "      <th>dbm</th>\n",
       "    </tr>\n",
       "  </thead>\n",
       "  <tbody>\n",
       "    <tr>\n",
       "      <th>0</th>\n",
       "      <td>0.00</td>\n",
       "      <td>500</td>\n",
       "      <td>16</td>\n",
       "      <td>4.996616e-13</td>\n",
       "      <td>3.06045</td>\n",
       "      <td>50.63294</td>\n",
       "      <td>-123.0</td>\n",
       "    </tr>\n",
       "    <tr>\n",
       "      <th>1</th>\n",
       "      <td>0.02</td>\n",
       "      <td>500</td>\n",
       "      <td>16</td>\n",
       "      <td>5.004682e-13</td>\n",
       "      <td>3.06045</td>\n",
       "      <td>50.63294</td>\n",
       "      <td>-123.0</td>\n",
       "    </tr>\n",
       "    <tr>\n",
       "      <th>2</th>\n",
       "      <td>0.04</td>\n",
       "      <td>500</td>\n",
       "      <td>16</td>\n",
       "      <td>5.013803e-13</td>\n",
       "      <td>3.06045</td>\n",
       "      <td>50.63294</td>\n",
       "      <td>-123.0</td>\n",
       "    </tr>\n",
       "    <tr>\n",
       "      <th>3</th>\n",
       "      <td>0.06</td>\n",
       "      <td>500</td>\n",
       "      <td>16</td>\n",
       "      <td>5.021966e-13</td>\n",
       "      <td>3.06045</td>\n",
       "      <td>50.63294</td>\n",
       "      <td>-123.0</td>\n",
       "    </tr>\n",
       "    <tr>\n",
       "      <th>4</th>\n",
       "      <td>0.08</td>\n",
       "      <td>500</td>\n",
       "      <td>16</td>\n",
       "      <td>5.031786e-13</td>\n",
       "      <td>3.06045</td>\n",
       "      <td>50.63294</td>\n",
       "      <td>-123.0</td>\n",
       "    </tr>\n",
       "  </tbody>\n",
       "</table>\n",
       "</div>"
      ],
      "text/plain": [
       "   time   tx  id         power      lon       lat    dbm\n",
       "0  0.00  500  16  4.996616e-13  3.06045  50.63294 -123.0\n",
       "1  0.02  500  16  5.004682e-13  3.06045  50.63294 -123.0\n",
       "2  0.04  500  16  5.013803e-13  3.06045  50.63294 -123.0\n",
       "3  0.06  500  16  5.021966e-13  3.06045  50.63294 -123.0\n",
       "4  0.08  500  16  5.031786e-13  3.06045  50.63294 -123.0"
      ]
     },
     "execution_count": 2,
     "metadata": {},
     "output_type": "execute_result"
    }
   ],
   "source": [
    "df = pd.read_csv('50sensor_power_2tx_latlon_5g.csv')\n",
    "df.head()"
   ]
  },
  {
   "cell_type": "code",
   "execution_count": null,
   "id": "3b1aeeb0",
   "metadata": {},
   "outputs": [],
   "source": []
  },
  {
   "cell_type": "markdown",
   "id": "b7762804",
   "metadata": {},
   "source": [
    "## load config"
   ]
  },
  {
   "cell_type": "code",
   "execution_count": 3,
   "id": "16dbb354",
   "metadata": {},
   "outputs": [
    {
     "data": {
      "text/plain": [
       "{'grid_size': 100,\n",
       " 'generator_lr': 0.001,\n",
       " 'discriminator_lr': 0.001,\n",
       " 'pre_train_epoch': 1,\n",
       " 'train_epoch': 1,\n",
       " 'batch_size': 20,\n",
       " 'mean_shift_radius': 25,\n",
       " 'mean_shift_bandwith': 20,\n",
       " 'strange_num': 0,\n",
       " 'low_data_path': 'Temp/low_data.npy',\n",
       " 'high_data_path': 'Temp/high_data.npy',\n",
       " 'model_out_path': 'Temp/SI-AGAN.pth',\n",
       " 'log_path': 'Temp/SI-AGAN-log.txt'}"
      ]
     },
     "execution_count": 3,
     "metadata": {},
     "output_type": "execute_result"
    }
   ],
   "source": [
    "config = ConfigReader.GetModelConfig(\"./Temp/my_config.json\")\n",
    "config"
   ]
  },
  {
   "cell_type": "code",
   "execution_count": 4,
   "id": "3cf240ea",
   "metadata": {},
   "outputs": [],
   "source": [
    "GENERATOR_LR = config[\"generator_lr\"]  # 0.001\n",
    "DISCRIMINATOR_LR = config[\"discriminator_lr\"]  # 0.001\n",
    "PRE_TRAIN_EPOCH = config[\"pre_train_epoch\"]  # 2\n",
    "TRAIN_EPOCH = config[\"train_epoch\"]  # 10\n",
    "BATCH_SIZE = config[\"batch_size\"]  # 5\n",
    "MODEL_OUT_PATH = config[\"model_out_path\"]  # \"../Temp/Generator.pth\"\n",
    "UP_SAMPLE = 1\n",
    "IS_CUDA = False\n",
    "log_path = config[\"log_path\"]\n",
    "low_data_path = config['low_data_path']\n",
    "high_data_path = config['high_data_path']\n",
    "model_out_path = config['model_out_path']"
   ]
  },
  {
   "cell_type": "markdown",
   "id": "e07fad6f",
   "metadata": {},
   "source": [
    "## split train and test data"
   ]
  },
  {
   "cell_type": "code",
   "execution_count": 5,
   "id": "7470812c",
   "metadata": {},
   "outputs": [
    {
     "data": {
      "text/plain": [
       "3001"
      ]
     },
     "execution_count": 5,
     "metadata": {},
     "output_type": "execute_result"
    }
   ],
   "source": [
    "time_set = set(df['time'])\n",
    "len(time_set)"
   ]
  },
  {
   "cell_type": "code",
   "execution_count": 6,
   "id": "20290c7e",
   "metadata": {},
   "outputs": [
    {
     "name": "stdout",
     "output_type": "stream",
     "text": [
      "2700\n"
     ]
    },
    {
     "name": "stderr",
     "output_type": "stream",
     "text": [
      "C:\\Users\\fangfang.shang\\AppData\\Local\\Temp\\ipykernel_16872\\1118068011.py:2: DeprecationWarning: Sampling from a set deprecated\n",
      "since Python 3.9 and will be removed in a subsequent version.\n",
      "  train_time_sep = random.sample(time_set,k=int(len(time_set)*0.9))\n"
     ]
    },
    {
     "data": {
      "text/plain": [
       "[4.48, 57.04, 2.76, 3.6, 0.48, 57.46, 43.5, 32.08, 44.04, 11.92]"
      ]
     },
     "execution_count": 6,
     "metadata": {},
     "output_type": "execute_result"
    }
   ],
   "source": [
    "random.seed(5)\n",
    "train_time_sep = random.sample(time_set,k=int(len(time_set)*0.9))\n",
    "print(len(train_time_sep))\n",
    "train_time_sep[: 10]"
   ]
  },
  {
   "cell_type": "code",
   "execution_count": 7,
   "id": "3321cbb5",
   "metadata": {},
   "outputs": [
    {
     "name": "stdout",
     "output_type": "stream",
     "text": [
      "301\n"
     ]
    },
    {
     "data": {
      "text/plain": [
       "[0.54, 1.36, 2.18, 3.36, 4.08, 5.16, 6.0, 7.5, 7.8, 9.58]"
      ]
     },
     "execution_count": 7,
     "metadata": {},
     "output_type": "execute_result"
    }
   ],
   "source": [
    "test_time_sep = list(time_set - set(train_time_sep))\n",
    "print(len(test_time_sep))\n",
    "test_time_sep[: 10]"
   ]
  },
  {
   "cell_type": "code",
   "execution_count": 8,
   "id": "155d1ab4",
   "metadata": {},
   "outputs": [
    {
     "data": {
      "text/html": [
       "<div>\n",
       "<style scoped>\n",
       "    .dataframe tbody tr th:only-of-type {\n",
       "        vertical-align: middle;\n",
       "    }\n",
       "\n",
       "    .dataframe tbody tr th {\n",
       "        vertical-align: top;\n",
       "    }\n",
       "\n",
       "    .dataframe thead th {\n",
       "        text-align: right;\n",
       "    }\n",
       "</style>\n",
       "<table border=\"1\" class=\"dataframe\">\n",
       "  <thead>\n",
       "    <tr style=\"text-align: right;\">\n",
       "      <th></th>\n",
       "      <th>time</th>\n",
       "      <th>tx</th>\n",
       "      <th>id</th>\n",
       "      <th>power</th>\n",
       "      <th>lon</th>\n",
       "      <th>lat</th>\n",
       "      <th>dbm</th>\n",
       "    </tr>\n",
       "  </thead>\n",
       "  <tbody>\n",
       "    <tr>\n",
       "      <th>0</th>\n",
       "      <td>0.0</td>\n",
       "      <td>500</td>\n",
       "      <td>16</td>\n",
       "      <td>4.996616e-13</td>\n",
       "      <td>3.06045</td>\n",
       "      <td>50.63294</td>\n",
       "      <td>-123.0</td>\n",
       "    </tr>\n",
       "    <tr>\n",
       "      <th>1</th>\n",
       "      <td>0.0</td>\n",
       "      <td>501</td>\n",
       "      <td>29</td>\n",
       "      <td>7.476345e-12</td>\n",
       "      <td>3.06707</td>\n",
       "      <td>50.63558</td>\n",
       "      <td>-111.0</td>\n",
       "    </tr>\n",
       "    <tr>\n",
       "      <th>2</th>\n",
       "      <td>0.0</td>\n",
       "      <td>500</td>\n",
       "      <td>17</td>\n",
       "      <td>1.664575e-10</td>\n",
       "      <td>3.06141</td>\n",
       "      <td>50.63328</td>\n",
       "      <td>-98.0</td>\n",
       "    </tr>\n",
       "    <tr>\n",
       "      <th>3</th>\n",
       "      <td>0.0</td>\n",
       "      <td>500</td>\n",
       "      <td>42</td>\n",
       "      <td>2.192284e-10</td>\n",
       "      <td>3.05733</td>\n",
       "      <td>50.63295</td>\n",
       "      <td>-97.0</td>\n",
       "    </tr>\n",
       "    <tr>\n",
       "      <th>4</th>\n",
       "      <td>0.0</td>\n",
       "      <td>500</td>\n",
       "      <td>22</td>\n",
       "      <td>6.884540e-12</td>\n",
       "      <td>3.06588</td>\n",
       "      <td>50.63311</td>\n",
       "      <td>-112.0</td>\n",
       "    </tr>\n",
       "  </tbody>\n",
       "</table>\n",
       "</div>"
      ],
      "text/plain": [
       "   time   tx  id         power      lon       lat    dbm\n",
       "0   0.0  500  16  4.996616e-13  3.06045  50.63294 -123.0\n",
       "1   0.0  501  29  7.476345e-12  3.06707  50.63558 -111.0\n",
       "2   0.0  500  17  1.664575e-10  3.06141  50.63328  -98.0\n",
       "3   0.0  500  42  2.192284e-10  3.05733  50.63295  -97.0\n",
       "4   0.0  500  22  6.884540e-12  3.06588  50.63311 -112.0"
      ]
     },
     "execution_count": 8,
     "metadata": {},
     "output_type": "execute_result"
    }
   ],
   "source": [
    "df_train = df[df['time'].isin(train_time_sep)].sort_values('time').reset_index(drop=True)\n",
    "df_train.head()"
   ]
  },
  {
   "cell_type": "code",
   "execution_count": 9,
   "id": "6c5c4d83",
   "metadata": {},
   "outputs": [
    {
     "data": {
      "text/html": [
       "<div>\n",
       "<style scoped>\n",
       "    .dataframe tbody tr th:only-of-type {\n",
       "        vertical-align: middle;\n",
       "    }\n",
       "\n",
       "    .dataframe tbody tr th {\n",
       "        vertical-align: top;\n",
       "    }\n",
       "\n",
       "    .dataframe thead th {\n",
       "        text-align: right;\n",
       "    }\n",
       "</style>\n",
       "<table border=\"1\" class=\"dataframe\">\n",
       "  <thead>\n",
       "    <tr style=\"text-align: right;\">\n",
       "      <th></th>\n",
       "      <th>time</th>\n",
       "      <th>tx</th>\n",
       "      <th>id</th>\n",
       "      <th>power</th>\n",
       "      <th>lon</th>\n",
       "      <th>lat</th>\n",
       "      <th>dbm</th>\n",
       "    </tr>\n",
       "  </thead>\n",
       "  <tbody>\n",
       "    <tr>\n",
       "      <th>0</th>\n",
       "      <td>0.12</td>\n",
       "      <td>500</td>\n",
       "      <td>16</td>\n",
       "      <td>5.049263e-13</td>\n",
       "      <td>3.06045</td>\n",
       "      <td>50.63294</td>\n",
       "      <td>-123.0</td>\n",
       "    </tr>\n",
       "    <tr>\n",
       "      <th>1</th>\n",
       "      <td>0.12</td>\n",
       "      <td>501</td>\n",
       "      <td>39</td>\n",
       "      <td>2.337234e-11</td>\n",
       "      <td>3.06840</td>\n",
       "      <td>50.63656</td>\n",
       "      <td>-106.0</td>\n",
       "    </tr>\n",
       "    <tr>\n",
       "      <th>2</th>\n",
       "      <td>0.12</td>\n",
       "      <td>501</td>\n",
       "      <td>20</td>\n",
       "      <td>5.743208e-10</td>\n",
       "      <td>3.06742</td>\n",
       "      <td>50.63554</td>\n",
       "      <td>-92.0</td>\n",
       "    </tr>\n",
       "    <tr>\n",
       "      <th>3</th>\n",
       "      <td>0.12</td>\n",
       "      <td>501</td>\n",
       "      <td>2</td>\n",
       "      <td>9.852776e-11</td>\n",
       "      <td>3.06521</td>\n",
       "      <td>50.63314</td>\n",
       "      <td>-100.0</td>\n",
       "    </tr>\n",
       "    <tr>\n",
       "      <th>4</th>\n",
       "      <td>0.12</td>\n",
       "      <td>500</td>\n",
       "      <td>41</td>\n",
       "      <td>6.898391e-12</td>\n",
       "      <td>3.06091</td>\n",
       "      <td>50.63531</td>\n",
       "      <td>-112.0</td>\n",
       "    </tr>\n",
       "  </tbody>\n",
       "</table>\n",
       "</div>"
      ],
      "text/plain": [
       "   time   tx  id         power      lon       lat    dbm\n",
       "0  0.12  500  16  5.049263e-13  3.06045  50.63294 -123.0\n",
       "1  0.12  501  39  2.337234e-11  3.06840  50.63656 -106.0\n",
       "2  0.12  501  20  5.743208e-10  3.06742  50.63554  -92.0\n",
       "3  0.12  501   2  9.852776e-11  3.06521  50.63314 -100.0\n",
       "4  0.12  500  41  6.898391e-12  3.06091  50.63531 -112.0"
      ]
     },
     "execution_count": 9,
     "metadata": {},
     "output_type": "execute_result"
    }
   ],
   "source": [
    "df_test = df[df['time'].isin(test_time_sep)].sort_values('time').reset_index(drop=True)\n",
    "df_test.head()"
   ]
  },
  {
   "cell_type": "markdown",
   "id": "e98eb356",
   "metadata": {},
   "source": [
    "## generate low data and high data"
   ]
  },
  {
   "cell_type": "code",
   "execution_count": 10,
   "id": "60ca11ec",
   "metadata": {},
   "outputs": [
    {
     "data": {
      "text/html": [
       "<div>\n",
       "<style scoped>\n",
       "    .dataframe tbody tr th:only-of-type {\n",
       "        vertical-align: middle;\n",
       "    }\n",
       "\n",
       "    .dataframe tbody tr th {\n",
       "        vertical-align: top;\n",
       "    }\n",
       "\n",
       "    .dataframe thead th {\n",
       "        text-align: right;\n",
       "    }\n",
       "</style>\n",
       "<table border=\"1\" class=\"dataframe\">\n",
       "  <thead>\n",
       "    <tr style=\"text-align: right;\">\n",
       "      <th></th>\n",
       "      <th>time</th>\n",
       "      <th>lon</th>\n",
       "      <th>lat</th>\n",
       "      <th>dbm</th>\n",
       "    </tr>\n",
       "  </thead>\n",
       "  <tbody>\n",
       "    <tr>\n",
       "      <th>0</th>\n",
       "      <td>0.0</td>\n",
       "      <td>3.06045</td>\n",
       "      <td>50.63294</td>\n",
       "      <td>-123.0</td>\n",
       "    </tr>\n",
       "    <tr>\n",
       "      <th>1</th>\n",
       "      <td>0.0</td>\n",
       "      <td>3.06707</td>\n",
       "      <td>50.63558</td>\n",
       "      <td>-111.0</td>\n",
       "    </tr>\n",
       "    <tr>\n",
       "      <th>2</th>\n",
       "      <td>0.0</td>\n",
       "      <td>3.06141</td>\n",
       "      <td>50.63328</td>\n",
       "      <td>-98.0</td>\n",
       "    </tr>\n",
       "    <tr>\n",
       "      <th>3</th>\n",
       "      <td>0.0</td>\n",
       "      <td>3.05733</td>\n",
       "      <td>50.63295</td>\n",
       "      <td>-97.0</td>\n",
       "    </tr>\n",
       "    <tr>\n",
       "      <th>4</th>\n",
       "      <td>0.0</td>\n",
       "      <td>3.06588</td>\n",
       "      <td>50.63311</td>\n",
       "      <td>-112.0</td>\n",
       "    </tr>\n",
       "  </tbody>\n",
       "</table>\n",
       "</div>"
      ],
      "text/plain": [
       "   time      lon       lat    dbm\n",
       "0   0.0  3.06045  50.63294 -123.0\n",
       "1   0.0  3.06707  50.63558 -111.0\n",
       "2   0.0  3.06141  50.63328  -98.0\n",
       "3   0.0  3.05733  50.63295  -97.0\n",
       "4   0.0  3.06588  50.63311 -112.0"
      ]
     },
     "execution_count": 10,
     "metadata": {},
     "output_type": "execute_result"
    }
   ],
   "source": [
    "X = df_train[['time', 'lon', 'lat', 'dbm']]\n",
    "X.head()"
   ]
  },
  {
   "cell_type": "code",
   "execution_count": 11,
   "id": "892083fa",
   "metadata": {
    "scrolled": false
   },
   "outputs": [
    {
     "name": "stdout",
     "output_type": "stream",
     "text": [
      "3.05733 3.06976 50.63187 50.63699\n"
     ]
    }
   ],
   "source": [
    "min_lon=df['lon'].min()\n",
    "max_lon=df['lon'].max()\n",
    "min_lat=df['lat'].min()\n",
    "max_lat=df['lat'].max()\n",
    "print(min_lon, max_lon, min_lat, max_lat)"
   ]
  },
  {
   "cell_type": "markdown",
   "id": "bdeb381e",
   "metadata": {},
   "source": [
    "## generate low data"
   ]
  },
  {
   "cell_type": "code",
   "execution_count": 12,
   "id": "4c5ede44",
   "metadata": {},
   "outputs": [],
   "source": [
    "# if low_data.npy and high_data.npy not exists, run this code\n",
    "X = X.to_numpy()\n",
    "preprocess.GenerateLowHighPair2(X, min_lon, max_lon, min_lat, max_lat, use_interpolation_scipy=False,generate_X=None,use_interpolation_lgb=False)"
   ]
  },
  {
   "cell_type": "code",
   "execution_count": 17,
   "id": "b8298ad7",
   "metadata": {},
   "outputs": [
    {
     "data": {
      "text/plain": [
       "(2700, 100, 100)"
      ]
     },
     "execution_count": 17,
     "metadata": {},
     "output_type": "execute_result"
    }
   ],
   "source": [
    "low_data = np.load(low_data_path)\n",
    "low_data.shape"
   ]
  },
  {
   "cell_type": "code",
   "execution_count": 18,
   "id": "fc178be6",
   "metadata": {},
   "outputs": [
    {
     "data": {
      "image/png": "[encoded data removed]",
      "text/plain": [
       "<Figure size 432x288 with 1 Axes>"
      ]
     },
     "metadata": {
      "needs_background": "light"
     },
     "output_type": "display_data"
    }
   ],
   "source": [
    "# save pictures\n",
    "for i in range(low_data.shape[0]):\n",
    "    a = low_data[i]\n",
    "    plt.imshow(np.array(Image.fromarray(a)) , cmap=plt.cm.binary)\n",
    "    plt.savefig(f'./low_data_pic/{i}.png')"
   ]
  },
  {
   "cell_type": "code",
   "execution_count": null,
   "id": "152800e4",
   "metadata": {},
   "outputs": [],
   "source": []
  },
  {
   "cell_type": "markdown",
   "id": "adef76cd",
   "metadata": {},
   "source": [
    "## generate high data"
   ]
  },
  {
   "cell_type": "code",
   "execution_count": 14,
   "id": "665bae57",
   "metadata": {},
   "outputs": [],
   "source": [
    "# X = X.to_numpy()\n",
    "preprocess.GenerateLowHighPair2(X, min_lon, max_lon, min_lat, max_lat, use_interpolation_scipy=True,generate_X=None,use_interpolation_lgb=False)"
   ]
  },
  {
   "cell_type": "code",
   "execution_count": null,
   "id": "893cd486",
   "metadata": {},
   "outputs": [],
   "source": [
    "high_data = np.load(high_data_path)\n",
    "high_data.shape"
   ]
  },
  {
   "cell_type": "raw",
   "id": "38b6d14a",
   "metadata": {},
   "source": [
    "# save pictures\n",
    "for i in range(high_data.shape[0]):\n",
    "    a = high_data[i]\n",
    "    plt.imshow(np.array(Image.fromarray(a)) , cmap=plt.cm.binary)\n",
    "    plt.savefig(f'./high_data_pic/{i}.png')\n",
    "    "
   ]
  },
  {
   "cell_type": "code",
   "execution_count": null,
   "id": "b5eef0c5",
   "metadata": {},
   "outputs": [],
   "source": []
  },
  {
   "cell_type": "code",
   "execution_count": null,
   "id": "3230cbe2",
   "metadata": {},
   "outputs": [],
   "source": []
  },
  {
   "cell_type": "code",
   "execution_count": null,
   "id": "f55629de",
   "metadata": {},
   "outputs": [],
   "source": []
  },
  {
   "cell_type": "code",
   "execution_count": null,
   "id": "f1b15e0e",
   "metadata": {},
   "outputs": [],
   "source": []
  }
 ],
 "metadata": {
  "kernelspec": {
   "display_name": "Python 3 (ipykernel)",
   "language": "python",
   "name": "python3"
  },
  "language_info": {
   "codemirror_mode": {
    "name": "ipython",
    "version": 3
   },
   "file_extension": ".py",
   "mimetype": "text/x-python",
   "name": "python",
   "nbconvert_exporter": "python",
   "pygments_lexer": "ipython3",
   "version": "3.9.7"
  }
 },
 "nbformat": 4,
 "nbformat_minor": 5
}
