{
 "cells": [
  {
   "cell_type": "code",
   "execution_count": 1,
   "id": "dc9b6145",
   "metadata": {},
   "outputs": [],
   "source": [
    "import gensim\n",
    "import jieba\n",
    "from gensim.models import word2vec\n",
    "from gensim.models import Word2Vec\n",
    "import pandas as pd\n",
    "import numpy as np\n",
    "import tensorflow as tf\n",
    "from tensorflow import keras\n",
    "from tensorflow.keras import layers\n",
    "from tensorflow.keras.utils import plot_model"
   ]
  },
  {
   "cell_type": "code",
   "execution_count": 2,
   "id": "12399033",
   "metadata": {},
   "outputs": [
    {
     "data": {
      "text/html": [
       "<div>\n",
       "<style scoped>\n",
       "    .dataframe tbody tr th:only-of-type {\n",
       "        vertical-align: middle;\n",
       "    }\n",
       "\n",
       "    .dataframe tbody tr th {\n",
       "        vertical-align: top;\n",
       "    }\n",
       "\n",
       "    .dataframe thead th {\n",
       "        text-align: right;\n",
       "    }\n",
       "</style>\n",
       "<table border=\"1\" class=\"dataframe\">\n",
       "  <thead>\n",
       "    <tr style=\"text-align: right;\">\n",
       "      <th></th>\n",
       "      <th>content</th>\n",
       "      <th>title</th>\n",
       "      <th>channel</th>\n",
       "    </tr>\n",
       "  </thead>\n",
       "  <tbody>\n",
       "    <tr>\n",
       "      <th>0</th>\n",
       "      <td>北京时间7月21日消息，2022年男篮亚洲杯在雅加达继续进行，新西兰队在1/4决赛中88-7...</td>\n",
       "      <td>亚洲杯-韩国队两人被驱逐不敌新西兰 止步八强</td>\n",
       "      <td>体育</td>\n",
       "    </tr>\n",
       "    <tr>\n",
       "      <th>1</th>\n",
       "      <td>北京时间7月22日消息，CBA山东队官方宣布，与外援泰勒-罗切斯特完成签约。罗切斯特出生于美...</td>\n",
       "      <td>山东队官宣签下罗切斯特 上赛季场均23+4+6</td>\n",
       "      <td>体育</td>\n",
       "    </tr>\n",
       "    <tr>\n",
       "      <th>2</th>\n",
       "      <td>7月20日，张可盈晒出一组夏日清爽写真，照片中张可盈一身纯白色抹胸连衣裙，长发披肩，发丝随风...</td>\n",
       "      <td>张可盈夏日清爽写真 甜美少女气息与何幸运反差极大</td>\n",
       "      <td>明星</td>\n",
       "    </tr>\n",
       "    <tr>\n",
       "      <th>3</th>\n",
       "      <td>新浪娱乐讯 21日，柳岩最新一组时尚大片曝光。大片中，她身穿一袭黑纱裙，搭配黑色直发在月光下...</td>\n",
       "      <td>柳岩月下起舞大片氛围拉满 穿一袭黑纱裙尽显轻盈古典美</td>\n",
       "      <td>明星</td>\n",
       "    </tr>\n",
       "    <tr>\n",
       "      <th>4</th>\n",
       "      <td>新浪娱乐讯 据韩国媒体报道，男子组合NCT将出演时隔2年再次回归的《偶像运动会》。此前，NC...</td>\n",
       "      <td>《偶像运动会》时隔两年再办 男团NCT将参演竞技</td>\n",
       "      <td>音乐</td>\n",
       "    </tr>\n",
       "  </tbody>\n",
       "</table>\n",
       "</div>"
      ],
      "text/plain": [
       "                                             content  \\\n",
       "0  北京时间7月21日消息，2022年男篮亚洲杯在雅加达继续进行，新西兰队在1/4决赛中88-7...   \n",
       "1  北京时间7月22日消息，CBA山东队官方宣布，与外援泰勒-罗切斯特完成签约。罗切斯特出生于美...   \n",
       "2  7月20日，张可盈晒出一组夏日清爽写真，照片中张可盈一身纯白色抹胸连衣裙，长发披肩，发丝随风...   \n",
       "3  新浪娱乐讯 21日，柳岩最新一组时尚大片曝光。大片中，她身穿一袭黑纱裙，搭配黑色直发在月光下...   \n",
       "4  新浪娱乐讯 据韩国媒体报道，男子组合NCT将出演时隔2年再次回归的《偶像运动会》。此前，NC...   \n",
       "\n",
       "                        title channel  \n",
       "0      亚洲杯-韩国队两人被驱逐不敌新西兰 止步八强      体育  \n",
       "1     山东队官宣签下罗切斯特 上赛季场均23+4+6      体育  \n",
       "2    张可盈夏日清爽写真 甜美少女气息与何幸运反差极大      明星  \n",
       "3  柳岩月下起舞大片氛围拉满 穿一袭黑纱裙尽显轻盈古典美      明星  \n",
       "4    《偶像运动会》时隔两年再办 男团NCT将参演竞技      音乐  "
      ]
     },
     "execution_count": 2,
     "metadata": {},
     "output_type": "execute_result"
    }
   ],
   "source": [
    "news = pd.read_csv('news.csv',encoding='gbk')\n",
    "news.head()"
   ]
  },
  {
   "cell_type": "code",
   "execution_count": 3,
   "id": "9e8979d5",
   "metadata": {},
   "outputs": [
    {
     "data": {
      "text/plain": [
       "体育    2\n",
       "明星    2\n",
       "音乐    1\n",
       "Name: channel, dtype: int64"
      ]
     },
     "execution_count": 3,
     "metadata": {},
     "output_type": "execute_result"
    }
   ],
   "source": [
    "news['channel'].value_counts()"
   ]
  },
  {
   "cell_type": "code",
   "execution_count": 4,
   "id": "fa3dbe37",
   "metadata": {},
   "outputs": [
    {
     "data": {
      "text/html": [
       "<div>\n",
       "<style scoped>\n",
       "    .dataframe tbody tr th:only-of-type {\n",
       "        vertical-align: middle;\n",
       "    }\n",
       "\n",
       "    .dataframe tbody tr th {\n",
       "        vertical-align: top;\n",
       "    }\n",
       "\n",
       "    .dataframe thead th {\n",
       "        text-align: right;\n",
       "    }\n",
       "</style>\n",
       "<table border=\"1\" class=\"dataframe\">\n",
       "  <thead>\n",
       "    <tr style=\"text-align: right;\">\n",
       "      <th></th>\n",
       "      <th>content</th>\n",
       "      <th>title</th>\n",
       "      <th>channel</th>\n",
       "      <th>label</th>\n",
       "    </tr>\n",
       "  </thead>\n",
       "  <tbody>\n",
       "    <tr>\n",
       "      <th>0</th>\n",
       "      <td>北京时间7月21日消息，2022年男篮亚洲杯在雅加达继续进行，新西兰队在1/4决赛中88-7...</td>\n",
       "      <td>亚洲杯-韩国队两人被驱逐不敌新西兰 止步八强</td>\n",
       "      <td>体育</td>\n",
       "      <td>0</td>\n",
       "    </tr>\n",
       "    <tr>\n",
       "      <th>1</th>\n",
       "      <td>北京时间7月22日消息，CBA山东队官方宣布，与外援泰勒-罗切斯特完成签约。罗切斯特出生于美...</td>\n",
       "      <td>山东队官宣签下罗切斯特 上赛季场均23+4+6</td>\n",
       "      <td>体育</td>\n",
       "      <td>0</td>\n",
       "    </tr>\n",
       "    <tr>\n",
       "      <th>2</th>\n",
       "      <td>7月20日，张可盈晒出一组夏日清爽写真，照片中张可盈一身纯白色抹胸连衣裙，长发披肩，发丝随风...</td>\n",
       "      <td>张可盈夏日清爽写真 甜美少女气息与何幸运反差极大</td>\n",
       "      <td>明星</td>\n",
       "      <td>1</td>\n",
       "    </tr>\n",
       "    <tr>\n",
       "      <th>3</th>\n",
       "      <td>新浪娱乐讯 21日，柳岩最新一组时尚大片曝光。大片中，她身穿一袭黑纱裙，搭配黑色直发在月光下...</td>\n",
       "      <td>柳岩月下起舞大片氛围拉满 穿一袭黑纱裙尽显轻盈古典美</td>\n",
       "      <td>明星</td>\n",
       "      <td>1</td>\n",
       "    </tr>\n",
       "    <tr>\n",
       "      <th>4</th>\n",
       "      <td>新浪娱乐讯 据韩国媒体报道，男子组合NCT将出演时隔2年再次回归的《偶像运动会》。此前，NC...</td>\n",
       "      <td>《偶像运动会》时隔两年再办 男团NCT将参演竞技</td>\n",
       "      <td>音乐</td>\n",
       "      <td>2</td>\n",
       "    </tr>\n",
       "  </tbody>\n",
       "</table>\n",
       "</div>"
      ],
      "text/plain": [
       "                                             content  \\\n",
       "0  北京时间7月21日消息，2022年男篮亚洲杯在雅加达继续进行，新西兰队在1/4决赛中88-7...   \n",
       "1  北京时间7月22日消息，CBA山东队官方宣布，与外援泰勒-罗切斯特完成签约。罗切斯特出生于美...   \n",
       "2  7月20日，张可盈晒出一组夏日清爽写真，照片中张可盈一身纯白色抹胸连衣裙，长发披肩，发丝随风...   \n",
       "3  新浪娱乐讯 21日，柳岩最新一组时尚大片曝光。大片中，她身穿一袭黑纱裙，搭配黑色直发在月光下...   \n",
       "4  新浪娱乐讯 据韩国媒体报道，男子组合NCT将出演时隔2年再次回归的《偶像运动会》。此前，NC...   \n",
       "\n",
       "                        title channel  label  \n",
       "0      亚洲杯-韩国队两人被驱逐不敌新西兰 止步八强      体育      0  \n",
       "1     山东队官宣签下罗切斯特 上赛季场均23+4+6      体育      0  \n",
       "2    张可盈夏日清爽写真 甜美少女气息与何幸运反差极大      明星      1  \n",
       "3  柳岩月下起舞大片氛围拉满 穿一袭黑纱裙尽显轻盈古典美      明星      1  \n",
       "4    《偶像运动会》时隔两年再办 男团NCT将参演竞技      音乐      2  "
      ]
     },
     "execution_count": 4,
     "metadata": {},
     "output_type": "execute_result"
    }
   ],
   "source": [
    "label_transfer = {\n",
    "    '体育':0,\n",
    "    '明星':1,\n",
    "    '音乐':2\n",
    "}\n",
    "news['label'] = news['channel'].apply(lambda x:label_transfer[x])\n",
    "news.head()"
   ]
  },
  {
   "cell_type": "code",
   "execution_count": 5,
   "id": "da0b0496",
   "metadata": {},
   "outputs": [
    {
     "name": "stderr",
     "output_type": "stream",
     "text": [
      "Building prefix dict from the default dictionary ...\n",
      "Loading model from cache C:\\Users\\FANGFA~1.SHA\\AppData\\Local\\Temp\\jieba.cache\n",
      "Loading model cost 0.725 seconds.\n",
      "Prefix dict has been built successfully.\n"
     ]
    },
    {
     "data": {
      "text/plain": [
       "'北京/时间/7/月/21/日/消息/，/2022/年/男篮/亚洲杯/在/雅加达/继续/进行/，/新西兰队/在/1///4/决赛/中/88/-/78/击败/韩国队/，/晋级/四强/。/韩国队/后卫线/两员/大将/许勋/和/许雄/分别/因/伤病/和/新冠/缺阵/，/另外/两名/主将/李/大成/和/崔俊用/在/比赛/中均/累计/两次/技术犯规/被/罚下场/。/罗/健儿/为/韩国队/砍/下/19/分/14/板/3/封盖/，/金钟/奎/13/分/3/板/，/崔俊用/11/分/9/板/7/助攻/，/李/大成/11/分/，/姜相载/7/分/。/新西兰队/的/卡梅隆/得到/22/分/9/板/8/助攻/，/蒂明斯/6/分/14/板/，/米尔纳/14/分/5/板/，/法伦/索恩/16/分/7/板/，/亨特/8/分/4/板/，/穆雷/9/分/6/板/。/根据/赛程/，/新西兰队/将/在/半决赛/对阵/澳大利亚队/。'"
      ]
     },
     "execution_count": 5,
     "metadata": {},
     "output_type": "execute_result"
    }
   ],
   "source": [
    "'/'.join(jieba.cut(news['content'][0],cut_all=False))"
   ]
  },
  {
   "cell_type": "code",
   "execution_count": 6,
   "id": "f0ddb356",
   "metadata": {
    "scrolled": true
   },
   "outputs": [
    {
     "data": {
      "text/html": [
       "<div>\n",
       "<style scoped>\n",
       "    .dataframe tbody tr th:only-of-type {\n",
       "        vertical-align: middle;\n",
       "    }\n",
       "\n",
       "    .dataframe tbody tr th {\n",
       "        vertical-align: top;\n",
       "    }\n",
       "\n",
       "    .dataframe thead th {\n",
       "        text-align: right;\n",
       "    }\n",
       "</style>\n",
       "<table border=\"1\" class=\"dataframe\">\n",
       "  <thead>\n",
       "    <tr style=\"text-align: right;\">\n",
       "      <th></th>\n",
       "      <th>content</th>\n",
       "      <th>title</th>\n",
       "      <th>channel</th>\n",
       "      <th>label</th>\n",
       "      <th>分词</th>\n",
       "    </tr>\n",
       "  </thead>\n",
       "  <tbody>\n",
       "    <tr>\n",
       "      <th>0</th>\n",
       "      <td>北京时间7月21日消息，2022年男篮亚洲杯在雅加达继续进行，新西兰队在1/4决赛中88-7...</td>\n",
       "      <td>亚洲杯-韩国队两人被驱逐不敌新西兰 止步八强</td>\n",
       "      <td>体育</td>\n",
       "      <td>0</td>\n",
       "      <td>[北京, 时间, 7, 月, 21, 日, 消息, ，, 2022, 年, 男篮, 亚洲杯,...</td>\n",
       "    </tr>\n",
       "    <tr>\n",
       "      <th>1</th>\n",
       "      <td>北京时间7月22日消息，CBA山东队官方宣布，与外援泰勒-罗切斯特完成签约。罗切斯特出生于美...</td>\n",
       "      <td>山东队官宣签下罗切斯特 上赛季场均23+4+6</td>\n",
       "      <td>体育</td>\n",
       "      <td>0</td>\n",
       "      <td>[北京, 时间, 7, 月, 22, 日, 消息, ，, CBA, 山东队, 官方, 宣布,...</td>\n",
       "    </tr>\n",
       "    <tr>\n",
       "      <th>2</th>\n",
       "      <td>7月20日，张可盈晒出一组夏日清爽写真，照片中张可盈一身纯白色抹胸连衣裙，长发披肩，发丝随风...</td>\n",
       "      <td>张可盈夏日清爽写真 甜美少女气息与何幸运反差极大</td>\n",
       "      <td>明星</td>\n",
       "      <td>1</td>\n",
       "      <td>[7, 月, 20, 日, ，, 张可盈, 晒, 出, 一组, 夏日, 清爽, 写真, ，,...</td>\n",
       "    </tr>\n",
       "    <tr>\n",
       "      <th>3</th>\n",
       "      <td>新浪娱乐讯 21日，柳岩最新一组时尚大片曝光。大片中，她身穿一袭黑纱裙，搭配黑色直发在月光下...</td>\n",
       "      <td>柳岩月下起舞大片氛围拉满 穿一袭黑纱裙尽显轻盈古典美</td>\n",
       "      <td>明星</td>\n",
       "      <td>1</td>\n",
       "      <td>[新浪, 娱乐, 讯,  , 21, 日, ，, 柳岩, 最新, 一组, 时尚, 大片, 曝...</td>\n",
       "    </tr>\n",
       "    <tr>\n",
       "      <th>4</th>\n",
       "      <td>新浪娱乐讯 据韩国媒体报道，男子组合NCT将出演时隔2年再次回归的《偶像运动会》。此前，NC...</td>\n",
       "      <td>《偶像运动会》时隔两年再办 男团NCT将参演竞技</td>\n",
       "      <td>音乐</td>\n",
       "      <td>2</td>\n",
       "      <td>[新浪, 娱乐, 讯,  , 据, 韩国, 媒体报道, ，, 男子, 组合, NCT, 将,...</td>\n",
       "    </tr>\n",
       "  </tbody>\n",
       "</table>\n",
       "</div>"
      ],
      "text/plain": [
       "                                             content  \\\n",
       "0  北京时间7月21日消息，2022年男篮亚洲杯在雅加达继续进行，新西兰队在1/4决赛中88-7...   \n",
       "1  北京时间7月22日消息，CBA山东队官方宣布，与外援泰勒-罗切斯特完成签约。罗切斯特出生于美...   \n",
       "2  7月20日，张可盈晒出一组夏日清爽写真，照片中张可盈一身纯白色抹胸连衣裙，长发披肩，发丝随风...   \n",
       "3  新浪娱乐讯 21日，柳岩最新一组时尚大片曝光。大片中，她身穿一袭黑纱裙，搭配黑色直发在月光下...   \n",
       "4  新浪娱乐讯 据韩国媒体报道，男子组合NCT将出演时隔2年再次回归的《偶像运动会》。此前，NC...   \n",
       "\n",
       "                        title channel  label  \\\n",
       "0      亚洲杯-韩国队两人被驱逐不敌新西兰 止步八强      体育      0   \n",
       "1     山东队官宣签下罗切斯特 上赛季场均23+4+6      体育      0   \n",
       "2    张可盈夏日清爽写真 甜美少女气息与何幸运反差极大      明星      1   \n",
       "3  柳岩月下起舞大片氛围拉满 穿一袭黑纱裙尽显轻盈古典美      明星      1   \n",
       "4    《偶像运动会》时隔两年再办 男团NCT将参演竞技      音乐      2   \n",
       "\n",
       "                                                  分词  \n",
       "0  [北京, 时间, 7, 月, 21, 日, 消息, ，, 2022, 年, 男篮, 亚洲杯,...  \n",
       "1  [北京, 时间, 7, 月, 22, 日, 消息, ，, CBA, 山东队, 官方, 宣布,...  \n",
       "2  [7, 月, 20, 日, ，, 张可盈, 晒, 出, 一组, 夏日, 清爽, 写真, ，,...  \n",
       "3  [新浪, 娱乐, 讯,  , 21, 日, ，, 柳岩, 最新, 一组, 时尚, 大片, 曝...  \n",
       "4  [新浪, 娱乐, 讯,  , 据, 韩国, 媒体报道, ，, 男子, 组合, NCT, 将,...  "
      ]
     },
     "execution_count": 6,
     "metadata": {},
     "output_type": "execute_result"
    }
   ],
   "source": [
    "news['分词'] = news['content'].apply(lambda x: [i for i in jieba.cut(x,cut_all=False)])\n",
    "news.head()"
   ]
  },
  {
   "cell_type": "code",
   "execution_count": 7,
   "id": "cf50a6c6",
   "metadata": {},
   "outputs": [],
   "source": [
    "f = open('text1.txt','w',encoding='utf-8')\n",
    "for i in range(news.shape[0]):\n",
    "    f.writelines(' '.join(news['分词'][i])+'\\n')\n",
    "f.close()"
   ]
  },
  {
   "cell_type": "code",
   "execution_count": 8,
   "id": "fe52f285",
   "metadata": {},
   "outputs": [
    {
     "data": {
      "text/plain": [
       "<gensim.models.word2vec.Text8Corpus at 0x2a023acdc10>"
      ]
     },
     "execution_count": 8,
     "metadata": {},
     "output_type": "execute_result"
    }
   ],
   "source": [
    "sentences = word2vec.Text8Corpus('text1.txt')\n",
    "sentences"
   ]
  },
  {
   "cell_type": "code",
   "execution_count": 9,
   "id": "efeedd40",
   "metadata": {},
   "outputs": [],
   "source": [
    "model = Word2Vec(sentences, min_count=1)\n",
    "model.save('words_models.model')"
   ]
  },
  {
   "cell_type": "code",
   "execution_count": 10,
   "id": "8f0e2b85",
   "metadata": {},
   "outputs": [
    {
     "data": {
      "text/plain": [
       "<gensim.models.word2vec.Word2Vec at 0x2a07c047d60>"
      ]
     },
     "execution_count": 10,
     "metadata": {},
     "output_type": "execute_result"
    }
   ],
   "source": [
    "model1 = Word2Vec.load('words_models.model')\n",
    "model1"
   ]
  },
  {
   "cell_type": "code",
   "execution_count": 11,
   "id": "dcf0dd68",
   "metadata": {},
   "outputs": [
    {
     "data": {
      "text/plain": [
       "<gensim.models.keyedvectors.KeyedVectors at 0x2a023acdf10>"
      ]
     },
     "execution_count": 11,
     "metadata": {},
     "output_type": "execute_result"
    }
   ],
   "source": [
    "word_vectors=model1.wv\n",
    "word_vectors"
   ]
  },
  {
   "cell_type": "code",
   "execution_count": 12,
   "id": "2c10527a",
   "metadata": {},
   "outputs": [],
   "source": [
    "def pad(x, maxlengh=500):\n",
    "    x1 = np.zeros((maxlengh, 100))\n",
    "    if len(x) == 0:\n",
    "        return x1\n",
    "    if len(x) <= maxlengh:\n",
    "        x1[: len(x)] = x\n",
    "    else:\n",
    "        x1 = x[: maxlengh]\n",
    "    x1 = np.array(x1).reshape(maxlengh, 100)\n",
    "    return x1\n",
    "\n",
    "def apply_text_trainsfer(text):\n",
    "#     text = [text.strip()]\n",
    "    vec = [word_vectors[w] for w in text if w in word_vectors]\n",
    "    vec = pad(vec)\n",
    "    return vec"
   ]
  },
  {
   "cell_type": "code",
   "execution_count": 13,
   "id": "56ea0585",
   "metadata": {},
   "outputs": [
    {
     "data": {
      "text/html": [
       "<div>\n",
       "<style scoped>\n",
       "    .dataframe tbody tr th:only-of-type {\n",
       "        vertical-align: middle;\n",
       "    }\n",
       "\n",
       "    .dataframe tbody tr th {\n",
       "        vertical-align: top;\n",
       "    }\n",
       "\n",
       "    .dataframe thead th {\n",
       "        text-align: right;\n",
       "    }\n",
       "</style>\n",
       "<table border=\"1\" class=\"dataframe\">\n",
       "  <thead>\n",
       "    <tr style=\"text-align: right;\">\n",
       "      <th></th>\n",
       "      <th>content</th>\n",
       "      <th>title</th>\n",
       "      <th>channel</th>\n",
       "      <th>label</th>\n",
       "      <th>分词</th>\n",
       "    </tr>\n",
       "  </thead>\n",
       "  <tbody>\n",
       "    <tr>\n",
       "      <th>0</th>\n",
       "      <td>北京时间7月21日消息，2022年男篮亚洲杯在雅加达继续进行，新西兰队在1/4决赛中88-7...</td>\n",
       "      <td>亚洲杯-韩国队两人被驱逐不敌新西兰 止步八强</td>\n",
       "      <td>体育</td>\n",
       "      <td>0</td>\n",
       "      <td>[北京, 时间, 7, 月, 21, 日, 消息, ，, 2022, 年, 男篮, 亚洲杯,...</td>\n",
       "    </tr>\n",
       "    <tr>\n",
       "      <th>1</th>\n",
       "      <td>北京时间7月22日消息，CBA山东队官方宣布，与外援泰勒-罗切斯特完成签约。罗切斯特出生于美...</td>\n",
       "      <td>山东队官宣签下罗切斯特 上赛季场均23+4+6</td>\n",
       "      <td>体育</td>\n",
       "      <td>0</td>\n",
       "      <td>[北京, 时间, 7, 月, 22, 日, 消息, ，, CBA, 山东队, 官方, 宣布,...</td>\n",
       "    </tr>\n",
       "    <tr>\n",
       "      <th>2</th>\n",
       "      <td>7月20日，张可盈晒出一组夏日清爽写真，照片中张可盈一身纯白色抹胸连衣裙，长发披肩，发丝随风...</td>\n",
       "      <td>张可盈夏日清爽写真 甜美少女气息与何幸运反差极大</td>\n",
       "      <td>明星</td>\n",
       "      <td>1</td>\n",
       "      <td>[7, 月, 20, 日, ，, 张可盈, 晒, 出, 一组, 夏日, 清爽, 写真, ，,...</td>\n",
       "    </tr>\n",
       "    <tr>\n",
       "      <th>3</th>\n",
       "      <td>新浪娱乐讯 21日，柳岩最新一组时尚大片曝光。大片中，她身穿一袭黑纱裙，搭配黑色直发在月光下...</td>\n",
       "      <td>柳岩月下起舞大片氛围拉满 穿一袭黑纱裙尽显轻盈古典美</td>\n",
       "      <td>明星</td>\n",
       "      <td>1</td>\n",
       "      <td>[新浪, 娱乐, 讯,  , 21, 日, ，, 柳岩, 最新, 一组, 时尚, 大片, 曝...</td>\n",
       "    </tr>\n",
       "    <tr>\n",
       "      <th>4</th>\n",
       "      <td>新浪娱乐讯 据韩国媒体报道，男子组合NCT将出演时隔2年再次回归的《偶像运动会》。此前，NC...</td>\n",
       "      <td>《偶像运动会》时隔两年再办 男团NCT将参演竞技</td>\n",
       "      <td>音乐</td>\n",
       "      <td>2</td>\n",
       "      <td>[新浪, 娱乐, 讯,  , 据, 韩国, 媒体报道, ，, 男子, 组合, NCT, 将,...</td>\n",
       "    </tr>\n",
       "  </tbody>\n",
       "</table>\n",
       "</div>"
      ],
      "text/plain": [
       "                                             content  \\\n",
       "0  北京时间7月21日消息，2022年男篮亚洲杯在雅加达继续进行，新西兰队在1/4决赛中88-7...   \n",
       "1  北京时间7月22日消息，CBA山东队官方宣布，与外援泰勒-罗切斯特完成签约。罗切斯特出生于美...   \n",
       "2  7月20日，张可盈晒出一组夏日清爽写真，照片中张可盈一身纯白色抹胸连衣裙，长发披肩，发丝随风...   \n",
       "3  新浪娱乐讯 21日，柳岩最新一组时尚大片曝光。大片中，她身穿一袭黑纱裙，搭配黑色直发在月光下...   \n",
       "4  新浪娱乐讯 据韩国媒体报道，男子组合NCT将出演时隔2年再次回归的《偶像运动会》。此前，NC...   \n",
       "\n",
       "                        title channel  label  \\\n",
       "0      亚洲杯-韩国队两人被驱逐不敌新西兰 止步八强      体育      0   \n",
       "1     山东队官宣签下罗切斯特 上赛季场均23+4+6      体育      0   \n",
       "2    张可盈夏日清爽写真 甜美少女气息与何幸运反差极大      明星      1   \n",
       "3  柳岩月下起舞大片氛围拉满 穿一袭黑纱裙尽显轻盈古典美      明星      1   \n",
       "4    《偶像运动会》时隔两年再办 男团NCT将参演竞技      音乐      2   \n",
       "\n",
       "                                                  分词  \n",
       "0  [北京, 时间, 7, 月, 21, 日, 消息, ，, 2022, 年, 男篮, 亚洲杯,...  \n",
       "1  [北京, 时间, 7, 月, 22, 日, 消息, ，, CBA, 山东队, 官方, 宣布,...  \n",
       "2  [7, 月, 20, 日, ，, 张可盈, 晒, 出, 一组, 夏日, 清爽, 写真, ，,...  \n",
       "3  [新浪, 娱乐, 讯,  , 21, 日, ，, 柳岩, 最新, 一组, 时尚, 大片, 曝...  \n",
       "4  [新浪, 娱乐, 讯,  , 据, 韩国, 媒体报道, ，, 男子, 组合, NCT, 将,...  "
      ]
     },
     "execution_count": 13,
     "metadata": {},
     "output_type": "execute_result"
    }
   ],
   "source": [
    "news.head()"
   ]
  },
  {
   "cell_type": "code",
   "execution_count": null,
   "id": "8139ee73",
   "metadata": {},
   "outputs": [],
   "source": []
  },
  {
   "cell_type": "code",
   "execution_count": 14,
   "id": "cc40d49b",
   "metadata": {},
   "outputs": [
    {
     "data": {
      "text/html": [
       "<div>\n",
       "<style scoped>\n",
       "    .dataframe tbody tr th:only-of-type {\n",
       "        vertical-align: middle;\n",
       "    }\n",
       "\n",
       "    .dataframe tbody tr th {\n",
       "        vertical-align: top;\n",
       "    }\n",
       "\n",
       "    .dataframe thead th {\n",
       "        text-align: right;\n",
       "    }\n",
       "</style>\n",
       "<table border=\"1\" class=\"dataframe\">\n",
       "  <thead>\n",
       "    <tr style=\"text-align: right;\">\n",
       "      <th></th>\n",
       "      <th>content</th>\n",
       "      <th>title</th>\n",
       "      <th>channel</th>\n",
       "      <th>label</th>\n",
       "      <th>分词</th>\n",
       "      <th>fea_vec</th>\n",
       "    </tr>\n",
       "  </thead>\n",
       "  <tbody>\n",
       "    <tr>\n",
       "      <th>0</th>\n",
       "      <td>北京时间7月21日消息，2022年男篮亚洲杯在雅加达继续进行，新西兰队在1/4决赛中88-7...</td>\n",
       "      <td>亚洲杯-韩国队两人被驱逐不敌新西兰 止步八强</td>\n",
       "      <td>体育</td>\n",
       "      <td>0</td>\n",
       "      <td>[北京, 时间, 7, 月, 21, 日, 消息, ，, 2022, 年, 男篮, 亚洲杯,...</td>\n",
       "      <td>[[-0.006511525716632605, 0.009026700630784035,...</td>\n",
       "    </tr>\n",
       "    <tr>\n",
       "      <th>1</th>\n",
       "      <td>北京时间7月22日消息，CBA山东队官方宣布，与外援泰勒-罗切斯特完成签约。罗切斯特出生于美...</td>\n",
       "      <td>山东队官宣签下罗切斯特 上赛季场均23+4+6</td>\n",
       "      <td>体育</td>\n",
       "      <td>0</td>\n",
       "      <td>[北京, 时间, 7, 月, 22, 日, 消息, ，, CBA, 山东队, 官方, 宣布,...</td>\n",
       "      <td>[[-0.006511525716632605, 0.009026700630784035,...</td>\n",
       "    </tr>\n",
       "    <tr>\n",
       "      <th>2</th>\n",
       "      <td>7月20日，张可盈晒出一组夏日清爽写真，照片中张可盈一身纯白色抹胸连衣裙，长发披肩，发丝随风...</td>\n",
       "      <td>张可盈夏日清爽写真 甜美少女气息与何幸运反差极大</td>\n",
       "      <td>明星</td>\n",
       "      <td>1</td>\n",
       "      <td>[7, 月, 20, 日, ，, 张可盈, 晒, 出, 一组, 夏日, 清爽, 写真, ，,...</td>\n",
       "      <td>[[0.008123216219246387, -0.004369305446743965,...</td>\n",
       "    </tr>\n",
       "    <tr>\n",
       "      <th>3</th>\n",
       "      <td>新浪娱乐讯 21日，柳岩最新一组时尚大片曝光。大片中，她身穿一袭黑纱裙，搭配黑色直发在月光下...</td>\n",
       "      <td>柳岩月下起舞大片氛围拉满 穿一袭黑纱裙尽显轻盈古典美</td>\n",
       "      <td>明星</td>\n",
       "      <td>1</td>\n",
       "      <td>[新浪, 娱乐, 讯,  , 21, 日, ，, 柳岩, 最新, 一组, 时尚, 大片, 曝...</td>\n",
       "      <td>[[0.002210981212556362, -0.007390774320811033,...</td>\n",
       "    </tr>\n",
       "    <tr>\n",
       "      <th>4</th>\n",
       "      <td>新浪娱乐讯 据韩国媒体报道，男子组合NCT将出演时隔2年再次回归的《偶像运动会》。此前，NC...</td>\n",
       "      <td>《偶像运动会》时隔两年再办 男团NCT将参演竞技</td>\n",
       "      <td>音乐</td>\n",
       "      <td>2</td>\n",
       "      <td>[新浪, 娱乐, 讯,  , 据, 韩国, 媒体报道, ，, 男子, 组合, NCT, 将,...</td>\n",
       "      <td>[[0.002210981212556362, -0.007390774320811033,...</td>\n",
       "    </tr>\n",
       "  </tbody>\n",
       "</table>\n",
       "</div>"
      ],
      "text/plain": [
       "                                             content  \\\n",
       "0  北京时间7月21日消息，2022年男篮亚洲杯在雅加达继续进行，新西兰队在1/4决赛中88-7...   \n",
       "1  北京时间7月22日消息，CBA山东队官方宣布，与外援泰勒-罗切斯特完成签约。罗切斯特出生于美...   \n",
       "2  7月20日，张可盈晒出一组夏日清爽写真，照片中张可盈一身纯白色抹胸连衣裙，长发披肩，发丝随风...   \n",
       "3  新浪娱乐讯 21日，柳岩最新一组时尚大片曝光。大片中，她身穿一袭黑纱裙，搭配黑色直发在月光下...   \n",
       "4  新浪娱乐讯 据韩国媒体报道，男子组合NCT将出演时隔2年再次回归的《偶像运动会》。此前，NC...   \n",
       "\n",
       "                        title channel  label  \\\n",
       "0      亚洲杯-韩国队两人被驱逐不敌新西兰 止步八强      体育      0   \n",
       "1     山东队官宣签下罗切斯特 上赛季场均23+4+6      体育      0   \n",
       "2    张可盈夏日清爽写真 甜美少女气息与何幸运反差极大      明星      1   \n",
       "3  柳岩月下起舞大片氛围拉满 穿一袭黑纱裙尽显轻盈古典美      明星      1   \n",
       "4    《偶像运动会》时隔两年再办 男团NCT将参演竞技      音乐      2   \n",
       "\n",
       "                                                  分词  \\\n",
       "0  [北京, 时间, 7, 月, 21, 日, 消息, ，, 2022, 年, 男篮, 亚洲杯,...   \n",
       "1  [北京, 时间, 7, 月, 22, 日, 消息, ，, CBA, 山东队, 官方, 宣布,...   \n",
       "2  [7, 月, 20, 日, ，, 张可盈, 晒, 出, 一组, 夏日, 清爽, 写真, ，,...   \n",
       "3  [新浪, 娱乐, 讯,  , 21, 日, ，, 柳岩, 最新, 一组, 时尚, 大片, 曝...   \n",
       "4  [新浪, 娱乐, 讯,  , 据, 韩国, 媒体报道, ，, 男子, 组合, NCT, 将,...   \n",
       "\n",
       "                                             fea_vec  \n",
       "0  [[-0.006511525716632605, 0.009026700630784035,...  \n",
       "1  [[-0.006511525716632605, 0.009026700630784035,...  \n",
       "2  [[0.008123216219246387, -0.004369305446743965,...  \n",
       "3  [[0.002210981212556362, -0.007390774320811033,...  \n",
       "4  [[0.002210981212556362, -0.007390774320811033,...  "
      ]
     },
     "execution_count": 14,
     "metadata": {},
     "output_type": "execute_result"
    }
   ],
   "source": [
    "news['fea_vec'] = news['分词'].apply(apply_text_trainsfer)\n",
    "news.head()"
   ]
  },
  {
   "cell_type": "code",
   "execution_count": 15,
   "id": "f1bda460",
   "metadata": {},
   "outputs": [],
   "source": [
    "X_train_data = []\n",
    "for i in range(news.shape[0]):\n",
    "    X_train_data.append(apply_text_trainsfer(news['分词'][i]))"
   ]
  },
  {
   "cell_type": "code",
   "execution_count": 16,
   "id": "35b860b0",
   "metadata": {
    "scrolled": true
   },
   "outputs": [
    {
     "data": {
      "text/plain": [
       "array([[-0.00651153,  0.0090267 , -0.00155046, ..., -0.00996138,\n",
       "         0.00702593, -0.00738297],\n",
       "       [-0.00719306,  0.00642535, -0.00195216, ..., -0.00300673,\n",
       "        -0.00578624,  0.00371005],\n",
       "       [ 0.00812322, -0.00436931, -0.00106676, ..., -0.00576125,\n",
       "        -0.00163452,  0.00557623],\n",
       "       ...,\n",
       "       [ 0.        ,  0.        ,  0.        , ...,  0.        ,\n",
       "         0.        ,  0.        ],\n",
       "       [ 0.        ,  0.        ,  0.        , ...,  0.        ,\n",
       "         0.        ,  0.        ],\n",
       "       [ 0.        ,  0.        ,  0.        , ...,  0.        ,\n",
       "         0.        ,  0.        ]])"
      ]
     },
     "execution_count": 16,
     "metadata": {},
     "output_type": "execute_result"
    }
   ],
   "source": [
    "X_train_data[0]"
   ]
  },
  {
   "cell_type": "code",
   "execution_count": 18,
   "id": "685a89a4",
   "metadata": {},
   "outputs": [
    {
     "data": {
      "text/plain": [
       "(5, 500, 100)"
      ]
     },
     "execution_count": 18,
     "metadata": {},
     "output_type": "execute_result"
    }
   ],
   "source": [
    "X_train_data = np.array(X_train_data)\n",
    "X_train_data.shape"
   ]
  },
  {
   "cell_type": "code",
   "execution_count": 19,
   "id": "89066911",
   "metadata": {},
   "outputs": [
    {
     "data": {
      "text/plain": [
       "array([[1., 0., 0.],\n",
       "       [1., 0., 0.],\n",
       "       [0., 1., 0.],\n",
       "       [0., 1., 0.],\n",
       "       [0., 0., 1.]], dtype=float32)"
      ]
     },
     "execution_count": 19,
     "metadata": {},
     "output_type": "execute_result"
    }
   ],
   "source": [
    "y_train_onehot = keras.utils.to_categorical(news['label'].tolist())\n",
    "y_train_onehot"
   ]
  },
  {
   "cell_type": "code",
   "execution_count": 20,
   "id": "1b6f7cce",
   "metadata": {},
   "outputs": [
    {
     "data": {
      "text/plain": [
       "(5, 3)"
      ]
     },
     "execution_count": 20,
     "metadata": {},
     "output_type": "execute_result"
    }
   ],
   "source": [
    "y_train_onehot.shape"
   ]
  },
  {
   "cell_type": "code",
   "execution_count": 21,
   "id": "5ac25c38",
   "metadata": {},
   "outputs": [],
   "source": [
    "from keras.preprocessing.sequence import pad_sequences\n",
    "from keras.utils import np_utils\n",
    "from keras.models import Sequential\n",
    "from keras.layers import Dense, LSTM, Dropout, Embedding\n",
    "\n",
    "def create_model(X_train, nclass=3):\n",
    "    model = Sequential()\n",
    "    model.add(LSTM(128, input_shape=(X_train.shape[1], X_train.shape[2])))\n",
    "    model.add(Dropout(0.1))\n",
    "    model.add(Dense(20,activation='relu'))\n",
    "    model.add(Dense(nclass, activation='softmax'))\n",
    "    model.compile(loss='categorical_crossentropy', optimizer='adam', metrics=['accuracy'])\n",
    "    model.summary()\n",
    "    return model"
   ]
  },
  {
   "cell_type": "code",
   "execution_count": 22,
   "id": "a6d507ff",
   "metadata": {},
   "outputs": [
    {
     "name": "stdout",
     "output_type": "stream",
     "text": [
      "Model: \"sequential\"\n",
      "_________________________________________________________________\n",
      " Layer (type)                Output Shape              Param #   \n",
      "=================================================================\n",
      " lstm (LSTM)                 (None, 128)               117248    \n",
      "                                                                 \n",
      " dropout (Dropout)           (None, 128)               0         \n",
      "                                                                 \n",
      " dense (Dense)               (None, 20)                2580      \n",
      "                                                                 \n",
      " dense_1 (Dense)             (None, 3)                 63        \n",
      "                                                                 \n",
      "=================================================================\n",
      "Total params: 119,891\n",
      "Trainable params: 119,891\n",
      "Non-trainable params: 0\n",
      "_________________________________________________________________\n"
     ]
    },
    {
     "data": {
      "text/plain": [
       "<keras.engine.sequential.Sequential at 0x2a027e42490>"
      ]
     },
     "execution_count": 22,
     "metadata": {},
     "output_type": "execute_result"
    }
   ],
   "source": [
    "model2 = create_model(X_train_data, nclass=3)\n",
    "model2"
   ]
  },
  {
   "cell_type": "code",
   "execution_count": 23,
   "id": "07115427",
   "metadata": {
    "scrolled": true
   },
   "outputs": [
    {
     "name": "stdout",
     "output_type": "stream",
     "text": [
      "Epoch 1/10\n",
      "3/3 - 2s - loss: 1.1001 - accuracy: 0.4000 - 2s/epoch - 733ms/step\n",
      "Epoch 2/10\n",
      "3/3 - 1s - loss: 1.0984 - accuracy: 0.4000 - 560ms/epoch - 187ms/step\n",
      "Epoch 3/10\n",
      "3/3 - 1s - loss: 1.0965 - accuracy: 0.4000 - 513ms/epoch - 171ms/step\n",
      "Epoch 4/10\n",
      "3/3 - 1s - loss: 1.0937 - accuracy: 0.4000 - 533ms/epoch - 178ms/step\n",
      "Epoch 5/10\n",
      "3/3 - 1s - loss: 1.0899 - accuracy: 0.4000 - 523ms/epoch - 174ms/step\n",
      "Epoch 6/10\n",
      "3/3 - 1s - loss: 1.0904 - accuracy: 0.4000 - 537ms/epoch - 179ms/step\n",
      "Epoch 7/10\n",
      "3/3 - 1s - loss: 1.0869 - accuracy: 0.4000 - 524ms/epoch - 175ms/step\n",
      "Epoch 8/10\n",
      "3/3 - 1s - loss: 1.0900 - accuracy: 0.4000 - 538ms/epoch - 179ms/step\n",
      "Epoch 9/10\n",
      "3/3 - 1s - loss: 1.0750 - accuracy: 0.4000 - 526ms/epoch - 175ms/step\n",
      "Epoch 10/10\n",
      "3/3 - 1s - loss: 1.0815 - accuracy: 0.4000 - 523ms/epoch - 174ms/step\n"
     ]
    },
    {
     "data": {
      "text/plain": [
       "<keras.callbacks.History at 0x2a029d6f9d0>"
      ]
     },
     "execution_count": 23,
     "metadata": {},
     "output_type": "execute_result"
    }
   ],
   "source": [
    "model2.fit(X_train_data, y_train_onehot, epochs=10, batch_size=2, verbose=2)"
   ]
  },
  {
   "cell_type": "code",
   "execution_count": 24,
   "id": "183ec51b",
   "metadata": {},
   "outputs": [
    {
     "data": {
      "text/plain": [
       "array([[0.3357901 , 0.37771147, 0.28649843],\n",
       "       [0.3357901 , 0.37771145, 0.28649846],\n",
       "       [0.3357901 , 0.37771145, 0.28649846],\n",
       "       [0.3357901 , 0.37771145, 0.28649846],\n",
       "       [0.3357901 , 0.37771147, 0.28649843]], dtype=float32)"
      ]
     },
     "execution_count": 24,
     "metadata": {},
     "output_type": "execute_result"
    }
   ],
   "source": [
    "model2.predict(X_train_data)"
   ]
  },
  {
   "cell_type": "code",
   "execution_count": 25,
   "id": "e12366b1",
   "metadata": {},
   "outputs": [
    {
     "data": {
      "text/plain": [
       "array([[1., 0., 0.],\n",
       "       [1., 0., 0.],\n",
       "       [0., 1., 0.],\n",
       "       [0., 1., 0.],\n",
       "       [0., 0., 1.]], dtype=float32)"
      ]
     },
     "execution_count": 25,
     "metadata": {},
     "output_type": "execute_result"
    }
   ],
   "source": [
    "y_train_onehot"
   ]
  },
  {
   "cell_type": "code",
   "execution_count": null,
   "id": "f9662b5f",
   "metadata": {},
   "outputs": [],
   "source": []
  },
  {
   "cell_type": "code",
   "execution_count": null,
   "id": "6fe654ae",
   "metadata": {},
   "outputs": [],
   "source": []
  }
 ],
 "metadata": {
  "kernelspec": {
   "display_name": "Python 3 (ipykernel)",
   "language": "python",
   "name": "python3"
  },
  "language_info": {
   "codemirror_mode": {
    "name": "ipython",
    "version": 3
   },
   "file_extension": ".py",
   "mimetype": "text/x-python",
   "name": "python",
   "nbconvert_exporter": "python",
   "pygments_lexer": "ipython3",
   "version": "3.9.7"
  }
 },
 "nbformat": 4,
 "nbformat_minor": 5
}
